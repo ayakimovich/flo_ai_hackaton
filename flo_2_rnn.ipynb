{
 "cells": [
  {
   "cell_type": "code",
   "execution_count": 1,
   "metadata": {},
   "outputs": [
    {
     "name": "stderr",
     "output_type": "stream",
     "text": [
      "Using TensorFlow backend.\n",
      "/usr/local/Cellar/python3/3.6.2/Frameworks/Python.framework/Versions/3.6/lib/python3.6/importlib/_bootstrap.py:205: RuntimeWarning: compiletime version 3.5 of module '_catboost' does not match runtime version 3.6\n",
      "  return f(*args, **kwds)\n"
     ]
    }
   ],
   "source": [
    "import json\n",
    "import numpy as np\n",
    "import matplotlib.pyplot as plt\n",
    "from tqdm import tqdm\n",
    "%matplotlib inline\n",
    "from sklearn.preprocessing import MinMaxScaler\n",
    "from sklearn.metrics import mean_squared_error\n",
    "import keras.callbacks\n",
    "from keras.layers import Dense, Dropout, Activation, TimeDistributed, Input, concatenate\n",
    "from keras.layers.recurrent import LSTM\n",
    "from keras.models import Sequential, Model\n",
    "from sklearn.model_selection import train_test_split\n",
    "import pandas as pd\n",
    "from itertools import groupby\n",
    "import numpy.ma as ma\n",
    "import catboost\n",
    "from sklearn import metrics\n",
    "from keras.preprocessing.sequence import pad_sequences\n",
    "from keras.layers import Embedding"
   ]
  },
  {
   "cell_type": "code",
   "execution_count": 2,
   "metadata": {
    "collapsed": true
   },
   "outputs": [],
   "source": [
    "event_types = [\"bc613fb9d5\", \"bd18c260dd\", \"78a254eb1a\", \"60d7fad2cc\", \n",
    "               \"9f449c8a24\", \"44f0b93123\", \"c7863fbab6\", \"287a406e15\", \n",
    "               \"87d86c4ba1\", \"718ac49d0b\", \"1bea63552c\", \"4739c12685\", \n",
    "               \"09dff9a4e6\", \"e1218bb17f\", \"30fe294f41\", \"f3adcadc86\", \n",
    "               \"8fb049c69a\", \"a29c238412\", \"e5e18713a0\", \"bbfc7ae3f7\", \n",
    "               \"9c67e951dd\", \"5d5d31ecb1\", \"81b0435926\", \"8ccd550d04\", \n",
    "               \"416674c7cf\", \"96c40ef2e4\", \"221f9b90a3\", \"4234879f4b\", \n",
    "               \"444d9e80a6\", \"8b6000cce4\", \"d8c799feca\"]"
   ]
  },
  {
   "cell_type": "code",
   "execution_count": 3,
   "metadata": {
    "collapsed": true
   },
   "outputs": [],
   "source": [
    "def process_row(train_part):\n",
    "    train_part = json.loads(train_part)\n",
    "    x_row = []\n",
    "    y_row = []\n",
    "    for data_point in train_part:\n",
    "        x_data_point = [\n",
    "            np.mean(data_point[\"lengths_history\"]),\n",
    "            data_point['user_state'][\"age\"],\n",
    "            data_point['user_state']['height'],\n",
    "            data_point['user_state']['weight'],\n",
    "            data_point['user_state']['period_estimate'],\n",
    "            data_point['user_state']['luteal_estimate'],\n",
    "            data_point['user_state']['cycle_estimate'],\n",
    "            int(data_point['period_passed'])\n",
    "        ]\n",
    "        evts_map = {x['type'] : np.mean(x['value']) for x in data_point['events']}\n",
    "        for evt in event_types:\n",
    "            if evt in evts_map:\n",
    "                x_data_point.append(np.mean(evts_map[evt]))\n",
    "            else:\n",
    "                x_data_point.append(0)\n",
    "        x_data_point = [float('nan') if x is None else x for x in x_data_point]\n",
    "        x_row.append(np.array(x_data_point))\n",
    "        if 'label' in data_point:\n",
    "            lbl = data_point['label']\n",
    "            y_row.append(lbl)\n",
    "    return np.array(x_row), np.array(y_row)"
   ]
  },
  {
   "cell_type": "code",
   "execution_count": 47,
   "metadata": {},
   "outputs": [
    {
     "name": "stderr",
     "output_type": "stream",
     "text": [
      "0it [00:00, ?it/s]/usr/local/lib/python3.6/site-packages/numpy/core/fromnumeric.py:2909: RuntimeWarning: Mean of empty slice.\n",
      "  out=out, **kwargs)\n",
      "/usr/local/lib/python3.6/site-packages/numpy/core/_methods.py:80: RuntimeWarning: invalid value encountered in double_scalars\n",
      "  ret = ret.dtype.type(ret / rcount)\n",
      "129593it [10:04, 214.43it/s]\n"
     ]
    }
   ],
   "source": [
    "train_parts = []\n",
    "y_train_parts = []\n",
    "test_parts = []\n",
    "i = 0\n",
    "with open('/Users/vita/Downloads/flo/train_subsample.jsonl', 'r') as train_file, \\\n",
    "        open('/Users/vita/Downloads/flo/test_subsample.jsonl', 'r') as test_file:\n",
    "    for train_part, test_part in zip(tqdm(train_file), test_file):\n",
    "        i = i + 1\n",
    "#         if i > 25000:\n",
    "#             break\n",
    "            \n",
    "        train_x_row, train_y_row = process_row(train_part)\n",
    "        train_parts.append(train_x_row)\n",
    "        y_train_parts.append(train_y_row)\n",
    "\n",
    "#         test_x_row, test_y_row = process_row(test_part)\n",
    "#         test_parts.append(process_row(test_part))\n",
    "    y_train_parts = np.array(y_train_parts)\n",
    "    train_parts = np.array(train_parts)\n",
    "    test_parts = np.array(test_parts)"
   ]
  },
  {
   "cell_type": "code",
   "execution_count": 48,
   "metadata": {},
   "outputs": [],
   "source": [
    "X_train, X_test, y_train, y_test = train_test_split(train_parts, y_train_parts, test_size=0.3)"
   ]
  },
  {
   "cell_type": "code",
   "execution_count": 67,
   "metadata": {},
   "outputs": [],
   "source": [
    "# fill nan\n",
    "def fill_nan(data):\n",
    "    return np.array([np.where(np.isnan(x), ma.array(x, mask=np.isnan(x)).mean(axis=0), x) for x in data])\n",
    "\n",
    "X_train = fill_nan(X_train)\n",
    "X_test = fill_nan(X_test)"
   ]
  },
  {
   "cell_type": "code",
   "execution_count": 50,
   "metadata": {},
   "outputs": [
    {
     "data": {
      "text/plain": [
       "((90715, 280, 39), (90715, 280, 1))"
      ]
     },
     "execution_count": 50,
     "metadata": {},
     "output_type": "execute_result"
    }
   ],
   "source": [
    "X_train = pad_sequences(X_train)\n",
    "y_train = pad_sequences(y_train)\n",
    "y_train = np.reshape(y_train, (y_train.shape[0], y_train.shape[1], 1))\n",
    "X_train.shape, y_train.shape"
   ]
  },
  {
   "cell_type": "code",
   "execution_count": 68,
   "metadata": {},
   "outputs": [
    {
     "data": {
      "text/plain": [
       "((38878, 280, 39), (38878, 280, 1))"
      ]
     },
     "execution_count": 68,
     "metadata": {},
     "output_type": "execute_result"
    }
   ],
   "source": [
    "X_test = pad_sequences(X_test, maxlen=X_train.shape[1])\n",
    "y_test = pad_sequences(y_test, maxlen=X_train.shape[1])\n",
    "y_test = np.reshape(y_test, (y_test.shape[0], y_test.shape[1], 1))\n",
    "X_test.shape, y_test.shape"
   ]
  },
  {
   "cell_type": "code",
   "execution_count": 51,
   "metadata": {},
   "outputs": [
    {
     "name": "stderr",
     "output_type": "stream",
     "text": [
      "/usr/local/lib/python3.6/site-packages/sklearn/utils/validation.py:444: DataConversionWarning: Data with input dtype int32 was converted to float64 by MinMaxScaler.\n",
      "  warnings.warn(msg, DataConversionWarning)\n"
     ]
    },
    {
     "data": {
      "text/plain": [
       "(90715, 280, 39)"
      ]
     },
     "execution_count": 51,
     "metadata": {},
     "output_type": "execute_result"
    }
   ],
   "source": [
    "scaler = MinMaxScaler(feature_range=(0, 1))\n",
    "shp = X_train.shape\n",
    "X_train_scaled = np.reshape(X_train, (-1, shp[2]))\n",
    "X_train_scaled = scaler.fit_transform(X_train_scaled)\n",
    "X_train_scaled = np.reshape(X_train_scaled, shp)\n",
    "X_train_scaled.shape"
   ]
  },
  {
   "cell_type": "code",
   "execution_count": 69,
   "metadata": {},
   "outputs": [
    {
     "data": {
      "text/plain": [
       "(38878, 280, 39)"
      ]
     },
     "execution_count": 69,
     "metadata": {},
     "output_type": "execute_result"
    }
   ],
   "source": [
    "shp = X_test.shape\n",
    "X_test_scaled = np.reshape(X_test, (-1, shp[2]))\n",
    "X_test_scaled = scaler.transform(X_test_scaled)\n",
    "X_test_scaled = np.reshape(X_test_scaled, shp)\n",
    "X_test_scaled.shape"
   ]
  },
  {
   "cell_type": "code",
   "execution_count": 70,
   "metadata": {
    "collapsed": true
   },
   "outputs": [],
   "source": [
    "X_train_antrop = np.array(X_train_scaled[:,:,0:7])\n",
    "X_train_evt = np.array(X_train_scaled[:,:,7:])\n",
    "\n",
    "X_test_antrop = np.array(X_test_scaled[:,:,0:7])\n",
    "X_test_evt = np.array(X_test_scaled[:,:,7:])"
   ]
  },
  {
   "cell_type": "code",
   "execution_count": 65,
   "metadata": {
    "collapsed": true
   },
   "outputs": [],
   "source": [
    "def create_model():\n",
    "    inputs = Input(shape=(X_train.shape[1], X_train.shape[2]))    \n",
    "    x = LSTM(4, return_sequences=True)(inputs)\n",
    "#     x = Dropout(.5)(x)\n",
    "#     x = Dense(512)(x)\n",
    "#     x = Dropout(.5)(x)\n",
    "#     x = Dense(512)(x)\n",
    "#     x = Dropout(.5)(x)\n",
    "    outputs = TimeDistributed(Dense(1))(x)\n",
    "    model = Model(inputs, outputs)\n",
    "    model.compile('adam', 'mean_absolute_error')\n",
    "    return model"
   ]
  },
  {
   "cell_type": "code",
   "execution_count": 53,
   "metadata": {
    "collapsed": true
   },
   "outputs": [],
   "source": [
    "def create_model_2():\n",
    "    evts_input = Input(shape=(X_train_evt.shape[1], X_train_evt.shape[2]))    \n",
    "    lstm_out = LSTM(32, return_sequences=True)(evts_input)\n",
    "    lstm_out = Dropout(.5)(lstm_out)\n",
    "    input_2 = Input(shape=(X_train_antrop.shape[1], X_train_antrop.shape[2]))    \n",
    "    x = keras.layers.concatenate([lstm_out, input_2])\n",
    "    x = Dense(64, activation='relu')(x)\n",
    "    x = Dropout(.25)(x)\n",
    "    x = Dense(64, activation='relu')(x)\n",
    "    x = Dropout(.25)(x)\n",
    "    x = Dense(64, activation='relu')(x)\n",
    "    x = Dropout(.25)(x)\n",
    "    outputs = TimeDistributed(Dense(1))(x)\n",
    "    model = Model(inputs=[evts_input, input_2], outputs=outputs)\n",
    "    model.compile('adam', 'mean_absolute_error')\n",
    "    return model"
   ]
  },
  {
   "cell_type": "code",
   "execution_count": 59,
   "metadata": {
    "collapsed": true
   },
   "outputs": [
    {
     "name": "stderr",
     "output_type": "stream",
     "text": [
      "/usr/local/lib/python3.6/site-packages/ipykernel_launcher.py:4: UserWarning: The `nb_epoch` argument in `fit` has been renamed `epochs`.\n",
      "  after removing the cwd from sys.path.\n"
     ]
    },
    {
     "name": "stdout",
     "output_type": "stream",
     "text": [
      "Train on 81643 samples, validate on 9072 samples\n",
      "Epoch 1/20\n",
      "81643/81643 [==============================] - 758s - loss: 2.7720 - val_loss: 1.6630\n",
      "Epoch 2/20\n",
      "81643/81643 [==============================] - 739s - loss: 2.0918 - val_loss: 1.4535\n",
      "Epoch 3/20\n",
      "81643/81643 [==============================] - 738s - loss: 2.0179 - val_loss: 1.3681\n",
      "Epoch 4/20\n",
      "81643/81643 [==============================] - 741s - loss: 1.9846 - val_loss: 1.4011\n",
      "Epoch 5/20\n",
      "81643/81643 [==============================] - 741s - loss: 1.9637 - val_loss: 1.3057\n",
      "Epoch 6/20\n",
      "81643/81643 [==============================] - 784s - loss: 1.9465 - val_loss: 1.3386\n",
      "Epoch 7/20\n",
      "33088/81643 [===========>..................] - ETA: 532s - loss: 1.9198"
     ]
    },
    {
     "ename": "KeyboardInterrupt",
     "evalue": "",
     "output_type": "error",
     "traceback": [
      "\u001b[0;31m-----------------------------------------------------------\u001b[0m",
      "\u001b[0;31mKeyboardInterrupt\u001b[0m         Traceback (most recent call last)",
      "\u001b[0;32m<ipython-input-59-608e82b0c73a>\u001b[0m in \u001b[0;36m<module>\u001b[0;34m()\u001b[0m\n\u001b[1;32m      2\u001b[0m \u001b[0;31m# model.fit(X_train_scaled, y_train, batch_size=32, nb_epoch=10, validation_split=0.1, verbose=1)\u001b[0m\u001b[0;34m\u001b[0m\u001b[0;34m\u001b[0m\u001b[0m\n\u001b[1;32m      3\u001b[0m \u001b[0mmodel_2\u001b[0m \u001b[0;34m=\u001b[0m \u001b[0mcreate_model_2\u001b[0m\u001b[0;34m(\u001b[0m\u001b[0;34m)\u001b[0m\u001b[0;34m\u001b[0m\u001b[0m\n\u001b[0;32m----> 4\u001b[0;31m \u001b[0mmodel_2\u001b[0m\u001b[0;34m.\u001b[0m\u001b[0mfit\u001b[0m\u001b[0;34m(\u001b[0m\u001b[0;34m[\u001b[0m\u001b[0mX_train_evt\u001b[0m\u001b[0;34m,\u001b[0m \u001b[0mX_train_antrop\u001b[0m\u001b[0;34m]\u001b[0m\u001b[0;34m,\u001b[0m \u001b[0my_train\u001b[0m\u001b[0;34m,\u001b[0m \u001b[0mbatch_size\u001b[0m\u001b[0;34m=\u001b[0m\u001b[0;36m64\u001b[0m\u001b[0;34m,\u001b[0m \u001b[0mnb_epoch\u001b[0m\u001b[0;34m=\u001b[0m\u001b[0;36m20\u001b[0m\u001b[0;34m,\u001b[0m \u001b[0mvalidation_split\u001b[0m\u001b[0;34m=\u001b[0m\u001b[0;36m0.1\u001b[0m\u001b[0;34m,\u001b[0m \u001b[0mverbose\u001b[0m\u001b[0;34m=\u001b[0m\u001b[0;36m1\u001b[0m\u001b[0;34m)\u001b[0m\u001b[0;34m\u001b[0m\u001b[0m\n\u001b[0m",
      "\u001b[0;32m/usr/local/lib/python3.6/site-packages/keras/engine/training.py\u001b[0m in \u001b[0;36mfit\u001b[0;34m(self, x, y, batch_size, epochs, verbose, callbacks, validation_split, validation_data, shuffle, class_weight, sample_weight, initial_epoch, steps_per_epoch, validation_steps, **kwargs)\u001b[0m\n\u001b[1;32m   1596\u001b[0m                               \u001b[0minitial_epoch\u001b[0m\u001b[0;34m=\u001b[0m\u001b[0minitial_epoch\u001b[0m\u001b[0;34m,\u001b[0m\u001b[0;34m\u001b[0m\u001b[0m\n\u001b[1;32m   1597\u001b[0m                               \u001b[0msteps_per_epoch\u001b[0m\u001b[0;34m=\u001b[0m\u001b[0msteps_per_epoch\u001b[0m\u001b[0;34m,\u001b[0m\u001b[0;34m\u001b[0m\u001b[0m\n\u001b[0;32m-> 1598\u001b[0;31m                               validation_steps=validation_steps)\n\u001b[0m\u001b[1;32m   1599\u001b[0m \u001b[0;34m\u001b[0m\u001b[0m\n\u001b[1;32m   1600\u001b[0m     def evaluate(self, x, y,\n",
      "\u001b[0;32m/usr/local/lib/python3.6/site-packages/keras/engine/training.py\u001b[0m in \u001b[0;36m_fit_loop\u001b[0;34m(self, f, ins, out_labels, batch_size, epochs, verbose, callbacks, val_f, val_ins, shuffle, callback_metrics, initial_epoch, steps_per_epoch, validation_steps)\u001b[0m\n\u001b[1;32m   1181\u001b[0m                     \u001b[0mbatch_logs\u001b[0m\u001b[0;34m[\u001b[0m\u001b[0;34m'size'\u001b[0m\u001b[0;34m]\u001b[0m \u001b[0;34m=\u001b[0m \u001b[0mlen\u001b[0m\u001b[0;34m(\u001b[0m\u001b[0mbatch_ids\u001b[0m\u001b[0;34m)\u001b[0m\u001b[0;34m\u001b[0m\u001b[0m\n\u001b[1;32m   1182\u001b[0m                     \u001b[0mcallbacks\u001b[0m\u001b[0;34m.\u001b[0m\u001b[0mon_batch_begin\u001b[0m\u001b[0;34m(\u001b[0m\u001b[0mbatch_index\u001b[0m\u001b[0;34m,\u001b[0m \u001b[0mbatch_logs\u001b[0m\u001b[0;34m)\u001b[0m\u001b[0;34m\u001b[0m\u001b[0m\n\u001b[0;32m-> 1183\u001b[0;31m                     \u001b[0mouts\u001b[0m \u001b[0;34m=\u001b[0m \u001b[0mf\u001b[0m\u001b[0;34m(\u001b[0m\u001b[0mins_batch\u001b[0m\u001b[0;34m)\u001b[0m\u001b[0;34m\u001b[0m\u001b[0m\n\u001b[0m\u001b[1;32m   1184\u001b[0m                     \u001b[0;32mif\u001b[0m \u001b[0;32mnot\u001b[0m \u001b[0misinstance\u001b[0m\u001b[0;34m(\u001b[0m\u001b[0mouts\u001b[0m\u001b[0;34m,\u001b[0m \u001b[0mlist\u001b[0m\u001b[0;34m)\u001b[0m\u001b[0;34m:\u001b[0m\u001b[0;34m\u001b[0m\u001b[0m\n\u001b[1;32m   1185\u001b[0m                         \u001b[0mouts\u001b[0m \u001b[0;34m=\u001b[0m \u001b[0;34m[\u001b[0m\u001b[0mouts\u001b[0m\u001b[0;34m]\u001b[0m\u001b[0;34m\u001b[0m\u001b[0m\n",
      "\u001b[0;32m/usr/local/lib/python3.6/site-packages/keras/backend/tensorflow_backend.py\u001b[0m in \u001b[0;36m__call__\u001b[0;34m(self, inputs)\u001b[0m\n\u001b[1;32m   2271\u001b[0m         updated = session.run(self.outputs + [self.updates_op],\n\u001b[1;32m   2272\u001b[0m                               \u001b[0mfeed_dict\u001b[0m\u001b[0;34m=\u001b[0m\u001b[0mfeed_dict\u001b[0m\u001b[0;34m,\u001b[0m\u001b[0;34m\u001b[0m\u001b[0m\n\u001b[0;32m-> 2273\u001b[0;31m                               **self.session_kwargs)\n\u001b[0m\u001b[1;32m   2274\u001b[0m         \u001b[0;32mreturn\u001b[0m \u001b[0mupdated\u001b[0m\u001b[0;34m[\u001b[0m\u001b[0;34m:\u001b[0m\u001b[0mlen\u001b[0m\u001b[0;34m(\u001b[0m\u001b[0mself\u001b[0m\u001b[0;34m.\u001b[0m\u001b[0moutputs\u001b[0m\u001b[0;34m)\u001b[0m\u001b[0;34m]\u001b[0m\u001b[0;34m\u001b[0m\u001b[0m\n\u001b[1;32m   2275\u001b[0m \u001b[0;34m\u001b[0m\u001b[0m\n",
      "\u001b[0;32m/usr/local/lib/python3.6/site-packages/tensorflow/python/client/session.py\u001b[0m in \u001b[0;36mrun\u001b[0;34m(self, fetches, feed_dict, options, run_metadata)\u001b[0m\n\u001b[1;32m    893\u001b[0m     \u001b[0;32mtry\u001b[0m\u001b[0;34m:\u001b[0m\u001b[0;34m\u001b[0m\u001b[0m\n\u001b[1;32m    894\u001b[0m       result = self._run(None, fetches, feed_dict, options_ptr,\n\u001b[0;32m--> 895\u001b[0;31m                          run_metadata_ptr)\n\u001b[0m\u001b[1;32m    896\u001b[0m       \u001b[0;32mif\u001b[0m \u001b[0mrun_metadata\u001b[0m\u001b[0;34m:\u001b[0m\u001b[0;34m\u001b[0m\u001b[0m\n\u001b[1;32m    897\u001b[0m         \u001b[0mproto_data\u001b[0m \u001b[0;34m=\u001b[0m \u001b[0mtf_session\u001b[0m\u001b[0;34m.\u001b[0m\u001b[0mTF_GetBuffer\u001b[0m\u001b[0;34m(\u001b[0m\u001b[0mrun_metadata_ptr\u001b[0m\u001b[0;34m)\u001b[0m\u001b[0;34m\u001b[0m\u001b[0m\n",
      "\u001b[0;32m/usr/local/lib/python3.6/site-packages/tensorflow/python/client/session.py\u001b[0m in \u001b[0;36m_run\u001b[0;34m(self, handle, fetches, feed_dict, options, run_metadata)\u001b[0m\n\u001b[1;32m   1122\u001b[0m     \u001b[0;32mif\u001b[0m \u001b[0mfinal_fetches\u001b[0m \u001b[0;32mor\u001b[0m \u001b[0mfinal_targets\u001b[0m \u001b[0;32mor\u001b[0m \u001b[0;34m(\u001b[0m\u001b[0mhandle\u001b[0m \u001b[0;32mand\u001b[0m \u001b[0mfeed_dict_tensor\u001b[0m\u001b[0;34m)\u001b[0m\u001b[0;34m:\u001b[0m\u001b[0;34m\u001b[0m\u001b[0m\n\u001b[1;32m   1123\u001b[0m       results = self._do_run(handle, final_targets, final_fetches,\n\u001b[0;32m-> 1124\u001b[0;31m                              feed_dict_tensor, options, run_metadata)\n\u001b[0m\u001b[1;32m   1125\u001b[0m     \u001b[0;32melse\u001b[0m\u001b[0;34m:\u001b[0m\u001b[0;34m\u001b[0m\u001b[0m\n\u001b[1;32m   1126\u001b[0m       \u001b[0mresults\u001b[0m \u001b[0;34m=\u001b[0m \u001b[0;34m[\u001b[0m\u001b[0;34m]\u001b[0m\u001b[0;34m\u001b[0m\u001b[0m\n",
      "\u001b[0;32m/usr/local/lib/python3.6/site-packages/tensorflow/python/client/session.py\u001b[0m in \u001b[0;36m_do_run\u001b[0;34m(self, handle, target_list, fetch_list, feed_dict, options, run_metadata)\u001b[0m\n\u001b[1;32m   1319\u001b[0m     \u001b[0;32mif\u001b[0m \u001b[0mhandle\u001b[0m \u001b[0;32mis\u001b[0m \u001b[0;32mNone\u001b[0m\u001b[0;34m:\u001b[0m\u001b[0;34m\u001b[0m\u001b[0m\n\u001b[1;32m   1320\u001b[0m       return self._do_call(_run_fn, self._session, feeds, fetches, targets,\n\u001b[0;32m-> 1321\u001b[0;31m                            options, run_metadata)\n\u001b[0m\u001b[1;32m   1322\u001b[0m     \u001b[0;32melse\u001b[0m\u001b[0;34m:\u001b[0m\u001b[0;34m\u001b[0m\u001b[0m\n\u001b[1;32m   1323\u001b[0m       \u001b[0;32mreturn\u001b[0m \u001b[0mself\u001b[0m\u001b[0;34m.\u001b[0m\u001b[0m_do_call\u001b[0m\u001b[0;34m(\u001b[0m\u001b[0m_prun_fn\u001b[0m\u001b[0;34m,\u001b[0m \u001b[0mself\u001b[0m\u001b[0;34m.\u001b[0m\u001b[0m_session\u001b[0m\u001b[0;34m,\u001b[0m \u001b[0mhandle\u001b[0m\u001b[0;34m,\u001b[0m \u001b[0mfeeds\u001b[0m\u001b[0;34m,\u001b[0m \u001b[0mfetches\u001b[0m\u001b[0;34m)\u001b[0m\u001b[0;34m\u001b[0m\u001b[0m\n",
      "\u001b[0;32m/usr/local/lib/python3.6/site-packages/tensorflow/python/client/session.py\u001b[0m in \u001b[0;36m_do_call\u001b[0;34m(self, fn, *args)\u001b[0m\n\u001b[1;32m   1325\u001b[0m   \u001b[0;32mdef\u001b[0m \u001b[0m_do_call\u001b[0m\u001b[0;34m(\u001b[0m\u001b[0mself\u001b[0m\u001b[0;34m,\u001b[0m \u001b[0mfn\u001b[0m\u001b[0;34m,\u001b[0m \u001b[0;34m*\u001b[0m\u001b[0margs\u001b[0m\u001b[0;34m)\u001b[0m\u001b[0;34m:\u001b[0m\u001b[0;34m\u001b[0m\u001b[0m\n\u001b[1;32m   1326\u001b[0m     \u001b[0;32mtry\u001b[0m\u001b[0;34m:\u001b[0m\u001b[0;34m\u001b[0m\u001b[0m\n\u001b[0;32m-> 1327\u001b[0;31m       \u001b[0;32mreturn\u001b[0m \u001b[0mfn\u001b[0m\u001b[0;34m(\u001b[0m\u001b[0;34m*\u001b[0m\u001b[0margs\u001b[0m\u001b[0;34m)\u001b[0m\u001b[0;34m\u001b[0m\u001b[0m\n\u001b[0m\u001b[1;32m   1328\u001b[0m     \u001b[0;32mexcept\u001b[0m \u001b[0merrors\u001b[0m\u001b[0;34m.\u001b[0m\u001b[0mOpError\u001b[0m \u001b[0;32mas\u001b[0m \u001b[0me\u001b[0m\u001b[0;34m:\u001b[0m\u001b[0;34m\u001b[0m\u001b[0m\n\u001b[1;32m   1329\u001b[0m       \u001b[0mmessage\u001b[0m \u001b[0;34m=\u001b[0m \u001b[0mcompat\u001b[0m\u001b[0;34m.\u001b[0m\u001b[0mas_text\u001b[0m\u001b[0;34m(\u001b[0m\u001b[0me\u001b[0m\u001b[0;34m.\u001b[0m\u001b[0mmessage\u001b[0m\u001b[0;34m)\u001b[0m\u001b[0;34m\u001b[0m\u001b[0m\n",
      "\u001b[0;32m/usr/local/lib/python3.6/site-packages/tensorflow/python/client/session.py\u001b[0m in \u001b[0;36m_run_fn\u001b[0;34m(session, feed_dict, fetch_list, target_list, options, run_metadata)\u001b[0m\n\u001b[1;32m   1304\u001b[0m           return tf_session.TF_Run(session, options,\n\u001b[1;32m   1305\u001b[0m                                    \u001b[0mfeed_dict\u001b[0m\u001b[0;34m,\u001b[0m \u001b[0mfetch_list\u001b[0m\u001b[0;34m,\u001b[0m \u001b[0mtarget_list\u001b[0m\u001b[0;34m,\u001b[0m\u001b[0;34m\u001b[0m\u001b[0m\n\u001b[0;32m-> 1306\u001b[0;31m                                    status, run_metadata)\n\u001b[0m\u001b[1;32m   1307\u001b[0m \u001b[0;34m\u001b[0m\u001b[0m\n\u001b[1;32m   1308\u001b[0m     \u001b[0;32mdef\u001b[0m \u001b[0m_prun_fn\u001b[0m\u001b[0;34m(\u001b[0m\u001b[0msession\u001b[0m\u001b[0;34m,\u001b[0m \u001b[0mhandle\u001b[0m\u001b[0;34m,\u001b[0m \u001b[0mfeed_dict\u001b[0m\u001b[0;34m,\u001b[0m \u001b[0mfetch_list\u001b[0m\u001b[0;34m)\u001b[0m\u001b[0;34m:\u001b[0m\u001b[0;34m\u001b[0m\u001b[0m\n",
      "\u001b[0;31mKeyboardInterrupt\u001b[0m: "
     ]
    }
   ],
   "source": [
    "# model = create_model()\n",
    "# model.fit(X_train_scaled, y_train, batch_size=32, nb_epoch=10, validation_split=0.1, verbose=1)\n",
    "model_2 = create_model_2()\n",
    "model_2.fit([X_train_evt, X_train_antrop], y_train, batch_size=64, nb_epoch=20, validation_split=0.1, verbose=1)"
   ]
  },
  {
   "cell_type": "code",
   "execution_count": 73,
   "metadata": {
    "collapsed": true
   },
   "outputs": [],
   "source": [
    "# pred = model.predict(X_train_scaled[1:2])\n",
    "pred = model_2.predict([X_test_evt, X_test_antrop])\n",
    "# list(zip(pred[0,:,0], y_train[0,:,0]))\n",
    "# list(zip(pred, y_train[0:1]))"
   ]
  },
  {
   "cell_type": "code",
   "execution_count": 72,
   "metadata": {
    "collapsed": true
   },
   "outputs": [
    {
     "data": {
      "text/plain": [
       "[(-6.3719934e-05, 0),\n",
       " (-6.3719934e-05, 0),\n",
       " (-6.3719934e-05, 0),\n",
       " (-6.3719934e-05, 0),\n",
       " (-6.3719934e-05, 0),\n",
       " (-6.3719934e-05, 0),\n",
       " (-6.3719934e-05, 0),\n",
       " (-6.3719934e-05, 0),\n",
       " (-6.3719934e-05, 0),\n",
       " (-6.3719934e-05, 0),\n",
       " (-6.3719934e-05, 0),\n",
       " (-6.3719934e-05, 0),\n",
       " (-6.3719934e-05, 0),\n",
       " (-6.3719934e-05, 0),\n",
       " (-6.3719934e-05, 0),\n",
       " (-6.3719934e-05, 0),\n",
       " (-6.3719934e-05, 0),\n",
       " (-6.3719934e-05, 0),\n",
       " (-6.3719934e-05, 0),\n",
       " (-6.3719934e-05, 0),\n",
       " (-6.3719934e-05, 0),\n",
       " (-6.3719934e-05, 0),\n",
       " (-6.3719934e-05, 0),\n",
       " (-6.3719934e-05, 0),\n",
       " (-6.3719934e-05, 0),\n",
       " (-6.3719934e-05, 0),\n",
       " (-6.3719934e-05, 0),\n",
       " (-6.3719934e-05, 0),\n",
       " (-6.3719934e-05, 0),\n",
       " (-6.3719934e-05, 0),\n",
       " (-6.3719934e-05, 0),\n",
       " (-6.3719934e-05, 0),\n",
       " (-6.3719934e-05, 0),\n",
       " (-6.3719934e-05, 0),\n",
       " (-6.3719934e-05, 0),\n",
       " (-6.3719934e-05, 0),\n",
       " (-6.3719934e-05, 0),\n",
       " (-6.3719934e-05, 0),\n",
       " (-6.3719934e-05, 0),\n",
       " (-6.3719934e-05, 0),\n",
       " (-6.3719934e-05, 0),\n",
       " (-6.3719934e-05, 0),\n",
       " (-6.3719934e-05, 0),\n",
       " (-6.3719934e-05, 0),\n",
       " (-6.3719934e-05, 0),\n",
       " (-6.3719934e-05, 0),\n",
       " (-6.3719934e-05, 0),\n",
       " (-6.3719934e-05, 0),\n",
       " (-6.3719934e-05, 0),\n",
       " (-6.3719934e-05, 0),\n",
       " (-6.3719934e-05, 0),\n",
       " (-6.3719934e-05, 0),\n",
       " (-6.3719934e-05, 0),\n",
       " (-6.3719934e-05, 0),\n",
       " (-6.3719934e-05, 0),\n",
       " (-6.3719934e-05, 0),\n",
       " (-6.3719934e-05, 0),\n",
       " (-6.3719934e-05, 0),\n",
       " (-6.3719934e-05, 0),\n",
       " (-6.3719934e-05, 0),\n",
       " (-6.3719934e-05, 0),\n",
       " (-6.3719934e-05, 0),\n",
       " (-6.3719934e-05, 0),\n",
       " (32.549137, 36),\n",
       " (32.548016, 36),\n",
       " (32.547268, 36),\n",
       " (33.021397, 36),\n",
       " (33.272167, 36),\n",
       " (33.149864, 36),\n",
       " (33.030369, 36),\n",
       " (33.003338, 36),\n",
       " (33.003986, 36),\n",
       " (33.016136, 36),\n",
       " (33.028618, 36),\n",
       " (33.035469, 36),\n",
       " (33.034542, 36),\n",
       " (33.026073, 36),\n",
       " (33.011562, 36),\n",
       " (32.992916, 36),\n",
       " (32.971901, 36),\n",
       " (32.949829, 36),\n",
       " (32.927334, 36),\n",
       " (32.904358, 36),\n",
       " (32.880161, 36),\n",
       " (32.847294, 36),\n",
       " (32.795673, 36),\n",
       " (32.74794, 36),\n",
       " (32.740726, 36),\n",
       " (32.723927, 36),\n",
       " (32.681091, 36),\n",
       " (32.649796, 36),\n",
       " (32.601971, 36),\n",
       " (32.518848, 36),\n",
       " (32.610966, 36),\n",
       " (32.735069, 36),\n",
       " (32.851509, 36),\n",
       " (32.998699, 36),\n",
       " (33.184032, 36),\n",
       " (33.447887, 36),\n",
       " (31.035479, 32),\n",
       " (30.786381, 32),\n",
       " (30.679504, 32),\n",
       " (30.752943, 32),\n",
       " (30.828569, 32),\n",
       " (30.909208, 32),\n",
       " (30.942312, 32),\n",
       " (30.950285, 32),\n",
       " (30.953117, 32),\n",
       " (30.970917, 32),\n",
       " (30.98539, 32),\n",
       " (30.997118, 32),\n",
       " (31.00528, 32),\n",
       " (31.008448, 32),\n",
       " (31.005144, 32),\n",
       " (30.994097, 32),\n",
       " (30.979347, 32),\n",
       " (30.966299, 32),\n",
       " (30.96545, 32),\n",
       " (31.014597, 32),\n",
       " (31.057379, 32),\n",
       " (31.096952, 32),\n",
       " (31.136183, 32),\n",
       " (31.17783, 32),\n",
       " (31.224501, 32),\n",
       " (31.322138, 32),\n",
       " (31.533249, 32),\n",
       " (31.934237, 32),\n",
       " (32.382969, 32),\n",
       " (32.868252, 32),\n",
       " (33.372112, 32),\n",
       " (33.930622, 32),\n",
       " (30.004278, 29),\n",
       " (30.219088, 29),\n",
       " (30.466763, 29),\n",
       " (30.606407, 29),\n",
       " (30.773973, 29),\n",
       " (30.86587, 29),\n",
       " (30.90951, 29),\n",
       " (30.987494, 29),\n",
       " (31.057867, 29),\n",
       " (31.111681, 29),\n",
       " (31.15094, 29),\n",
       " (31.176691, 29),\n",
       " (31.189362, 29),\n",
       " (31.189249, 29),\n",
       " (31.176886, 29),\n",
       " (31.153236, 29),\n",
       " (31.119677, 29),\n",
       " (31.077967, 29),\n",
       " (31.05443, 29),\n",
       " (31.060926, 29),\n",
       " (31.065887, 29),\n",
       " (31.069935, 29),\n",
       " (31.075634, 29),\n",
       " (31.085064, 29),\n",
       " (31.13781, 29),\n",
       " (31.205359, 29),\n",
       " (31.365999, 29),\n",
       " (31.657125, 29),\n",
       " (32.040794, 29),\n",
       " (32.475163, 29),\n",
       " (29.510788, 30),\n",
       " (29.726538, 30),\n",
       " (29.851477, 30),\n",
       " (29.969276, 30),\n",
       " (30.087425, 30),\n",
       " (30.142532, 30),\n",
       " (30.158308, 30),\n",
       " (30.182621, 30),\n",
       " (30.197989, 30),\n",
       " (30.169325, 30),\n",
       " (30.146791, 30),\n",
       " (30.134048, 30),\n",
       " (30.067877, 30),\n",
       " (30.115084, 30),\n",
       " (30.119272, 30),\n",
       " (30.105042, 30),\n",
       " (30.082609, 30),\n",
       " (30.0557, 30),\n",
       " (30.047583, 30),\n",
       " (30.046217, 30),\n",
       " (30.069584, 30),\n",
       " (30.103731, 30),\n",
       " (30.142975, 30),\n",
       " (30.20944, 30),\n",
       " (30.282328, 30),\n",
       " (30.417315, 30),\n",
       " (30.641821, 30),\n",
       " (30.970892, 30),\n",
       " (31.371283, 30),\n",
       " (31.786821, 30),\n",
       " (29.120409, 32),\n",
       " (29.142958, 32),\n",
       " (29.240591, 32),\n",
       " (29.355371, 32),\n",
       " (29.452486, 32),\n",
       " (29.49262, 32),\n",
       " (29.512381, 32),\n",
       " (29.558493, 32),\n",
       " (29.581266, 32),\n",
       " (29.565533, 32),\n",
       " (29.563732, 32),\n",
       " (29.571548, 32),\n",
       " (29.56991, 32),\n",
       " (29.561506, 32),\n",
       " (29.54995, 32),\n",
       " (29.535023, 32),\n",
       " (29.517097, 32),\n",
       " (29.497084, 32),\n",
       " (29.476263, 32),\n",
       " (29.478914, 32),\n",
       " (29.517828, 32),\n",
       " (29.560629, 32),\n",
       " (29.599833, 32),\n",
       " (29.637987, 32),\n",
       " (29.708391, 32),\n",
       " (29.795282, 32),\n",
       " (30.026323, 32),\n",
       " (30.337698, 32),\n",
       " (30.7045, 32),\n",
       " (31.130939, 32),\n",
       " (31.607767, 32),\n",
       " (32.19408, 32),\n",
       " (28.955553, 28),\n",
       " (29.069323, 28),\n",
       " (29.199705, 28),\n",
       " (29.311007, 28),\n",
       " (29.446941, 28),\n",
       " (29.506647, 28),\n",
       " (29.540541, 28),\n",
       " (29.597164, 28),\n",
       " (29.638361, 28),\n",
       " (29.667828, 28),\n",
       " (29.687906, 28),\n",
       " (29.687971, 28),\n",
       " (29.680067, 28),\n",
       " (29.668736, 28),\n",
       " (29.656078, 28),\n",
       " (29.634348, 28),\n",
       " (29.607944, 28),\n",
       " (29.579884, 28),\n",
       " (29.54999, 28),\n",
       " (29.565065, 28),\n",
       " (29.588861, 28),\n",
       " (29.612253, 28),\n",
       " (29.633183, 28),\n",
       " (29.654444, 28),\n",
       " (29.699022, 28),\n",
       " (29.774008, 28),\n",
       " (29.996462, 28),\n",
       " (30.319386, 28),\n",
       " (29.073406, 29),\n",
       " (29.268831, 29),\n",
       " (29.384081, 29),\n",
       " (29.458952, 29),\n",
       " (29.561079, 29),\n",
       " (29.609476, 29),\n",
       " (29.624109, 29),\n",
       " (29.641371, 29),\n",
       " (29.616323, 29),\n",
       " (29.581497, 29),\n",
       " (29.557102, 29),\n",
       " (29.541134, 29),\n",
       " (29.53116, 29),\n",
       " (29.524933, 29),\n",
       " (29.520748, 29),\n",
       " (29.517612, 29),\n",
       " (29.499622, 29),\n",
       " (29.480507, 29),\n",
       " (29.469521, 29),\n",
       " (29.478865, 29),\n",
       " (29.49144, 29),\n",
       " (29.534021, 29),\n",
       " (29.582464, 29),\n",
       " (29.666399, 29),\n",
       " (29.749571, 29),\n",
       " (29.874886, 29),\n",
       " (30.094498, 29),\n",
       " (30.384016, 29),\n",
       " (30.75297, 29)]"
      ]
     },
     "execution_count": 72,
     "metadata": {},
     "output_type": "execute_result"
    }
   ],
   "source": [
    "ind = 7\n",
    "list(zip(pred[ind,:,0], y_test[ind,:,0]))"
   ]
  },
  {
   "cell_type": "code",
   "execution_count": 74,
   "metadata": {
    "collapsed": true
   },
   "outputs": [],
   "source": [
    "def metric(real, predicted):\n",
    "    assert len(real) == len(predicted)\n",
    "    \n",
    "    users_mae_values = []\n",
    "    for real_labels, predicted_labels in zip(real, predicted):\n",
    "        assert len(real_labels) == len(predicted_labels)\n",
    "        real_labels, predicted_labels = np.array(real_labels), np.array(predicted_labels)\n",
    "        \n",
    "        user_mae = np.mean(np.abs(real_labels - predicted_labels))\n",
    "        users_mae_values.append(user_mae)\n",
    "    \n",
    "    return np.mean(users_mae_values)"
   ]
  },
  {
   "cell_type": "code",
   "execution_count": 87,
   "metadata": {},
   "outputs": [
    {
     "data": {
      "text/plain": [
       "array([[ 0,  0,  0, ..., 27, 27, 27],\n",
       "       [ 0,  0,  0, ..., 25, 25, 25],\n",
       "       [ 0,  0,  0, ..., 25, 25, 25],\n",
       "       ..., \n",
       "       [ 0,  0,  0, ..., 31, 31, 31],\n",
       "       [ 0,  0,  0, ..., 29, 29, 29],\n",
       "       [ 0,  0,  0, ..., 25, 25, 25]], dtype=int32)"
      ]
     },
     "execution_count": 87,
     "metadata": {},
     "output_type": "execute_result"
    }
   ],
   "source": [
    "y_test[:,:,0]"
   ]
  },
  {
   "cell_type": "code",
   "execution_count": 93,
   "metadata": {},
   "outputs": [],
   "source": [
    "real = []\n",
    "predicted = []\n",
    "for pair in zip(pred[:,:,0], y_test[:,:,0]):\n",
    "    ind = next((i for i, v in enumerate(pair[0]) if v > 0), -1)\n",
    "    predicted.append(pair[0][ind:])\n",
    "    real.append(pair[1][ind:])"
   ]
  },
  {
   "cell_type": "code",
   "execution_count": 100,
   "metadata": {},
   "outputs": [
    {
     "data": {
      "text/plain": [
       "(array([49, 49, 49, 49, 49, 49, 49, 49, 49, 49, 49, 49, 49, 49, 49, 49, 49,\n",
       "        49, 49, 49, 49, 49, 49, 49, 49, 49, 49, 49, 49, 49, 49, 49, 49, 49,\n",
       "        49, 49, 49, 49, 49, 49, 49, 49, 49, 49, 49, 49, 49, 49, 49, 49, 29,\n",
       "        29, 29, 29, 29, 29, 29, 29, 29, 29, 29, 29, 29, 29, 29, 29, 29, 29,\n",
       "        29, 29, 29, 29, 29, 29, 29, 29, 29, 29, 29, 36, 36, 36, 36, 36, 36,\n",
       "        36, 36, 36, 36, 36, 36, 36, 36, 36, 36, 36, 36, 36, 36, 36, 36, 36,\n",
       "        36, 36, 36, 36, 36, 36, 36, 36, 36, 36, 36, 36, 36, 36, 30, 30, 30,\n",
       "        30, 30, 30, 30, 30, 30, 30, 30, 30, 30, 30, 30, 30, 30, 30, 30, 30,\n",
       "        30, 30, 30, 30, 30, 30, 30, 30, 30, 30, 30, 31, 31, 31, 31, 31, 31,\n",
       "        31, 31, 31, 31, 31, 31, 31, 31, 31, 31, 31, 31, 31, 31, 31, 31, 31,\n",
       "        31, 31, 31, 31, 31, 31, 31, 31, 34, 34, 34, 34, 34, 34, 34, 34, 34,\n",
       "        34, 34, 34, 34, 34, 34, 34, 34, 34, 34, 34, 34, 34, 34, 34, 34, 34,\n",
       "        34, 34, 34, 34, 34, 34, 34, 34], dtype=int32),\n",
       " array([ 38.7779274 ,  38.71142197,  38.92678452,  39.03437424,\n",
       "         39.62930679,  39.8519783 ,  39.69860077,  39.56837845,\n",
       "         39.50602722,  39.46562576,  39.43548965,  39.41269302,\n",
       "         39.3886528 ,  39.36254501,  39.33657074,  39.31794357,\n",
       "         39.30754471,  39.30495834,  39.30986404,  39.32082367,\n",
       "         39.33589172,  39.35245895,  39.36745071,  39.39033127,\n",
       "         39.43381882,  39.52560806,  39.5775795 ,  39.59921646,\n",
       "         39.59430695,  39.56296539,  39.5434494 ,  39.56759262,\n",
       "         39.53668976,  39.4632988 ,  39.40527725,  39.39508438,\n",
       "         39.46598053,  39.84020233,  40.21264267,  40.57938004,\n",
       "         40.94642639,  41.31781387,  41.65586472,  41.95718384,\n",
       "         42.37229538,  42.84232712,  43.30368042,  43.7808609 ,\n",
       "         44.24980164,  44.63523483,  35.56736374,  34.42711258,\n",
       "         33.98485947,  33.70089722,  33.48865891,  33.07622147,\n",
       "         32.78604507,  32.56882858,  32.38588715,  32.26292801,\n",
       "         32.16474152,  32.08504105,  32.08556747,  31.98717499,\n",
       "         31.96171761,  31.95323372,  32.03532028,  32.11550903,\n",
       "         32.17813492,  32.27160263,  32.38332748,  32.5073204 ,\n",
       "         32.67038727,  32.83209229,  32.9909935 ,  33.165905  ,\n",
       "         32.70777512,  33.10187912,  33.44892502,  29.28300858,\n",
       "         29.53914833,  29.69653702,  29.83278465,  29.84144211,\n",
       "         29.90126228,  29.93437004,  29.95074844,  29.95904732,\n",
       "         29.96502304,  29.97951317,  29.99616623,  30.03114891,\n",
       "         30.08148956,  30.13474846,  30.19524574,  30.25646782,\n",
       "         30.31401634,  30.36590195,  30.41344833,  30.46658134,\n",
       "         30.55060959,  30.64030647,  30.76936531,  30.91300774,\n",
       "         31.11837959,  31.38829231,  31.78350639,  32.32218933,\n",
       "         32.8670311 ,  33.43706512,  34.08403778,  34.83465576,\n",
       "         35.75974655,  36.66882706,  37.5515976 ,  38.39731979,\n",
       "         31.06485176,  30.98386955,  30.97717285,  30.99058914,\n",
       "         30.97943878,  31.01976967,  31.01501656,  30.96955299,\n",
       "         30.92041397,  30.8835144 ,  30.86423683,  30.89948273,\n",
       "         30.95604134,  31.0193882 ,  31.08493996,  31.14868164,\n",
       "         31.20732498,  31.25835991,  31.30006218,  31.33134651,\n",
       "         31.37296295,  31.42744637,  31.48178101,  31.56254768,\n",
       "         31.67116165,  31.77272606,  31.87542152,  32.0638504 ,\n",
       "         32.37942123,  32.03853607,  32.62279129,  30.3279953 ,\n",
       "         30.57448387,  30.82127953,  31.02750397,  31.16331291,\n",
       "         31.30332565,  31.40387535,  31.51853561,  31.63847923,\n",
       "         31.74108887,  31.82729912,  31.89696693,  31.95039749,\n",
       "         31.98721123,  32.00722122,  32.01159668,  32.00217819,\n",
       "         31.98109818,  31.95226288,  31.95017052,  31.96923828,\n",
       "         31.99341011,  32.07035446,  32.16828537,  32.27035141,\n",
       "         32.42023849,  32.62955093,  32.94330215,  33.40580368,\n",
       "         33.88790894,  34.38208008,  31.1600914 ,  31.29992485,\n",
       "         31.39705467,  31.46041107,  31.54313087,  31.58945847,\n",
       "         31.5927372 ,  31.60845947,  31.6324749 ,  31.67020988,\n",
       "         31.70739174,  31.74659348,  31.78086281,  31.80468369,\n",
       "         31.79242325,  31.76811218,  31.73357964,  31.69141769,\n",
       "         31.646101  ,  31.63760376,  31.64345169,  31.66116142,\n",
       "         31.74364281,  31.83953285,  31.93218231,  32.09689713,\n",
       "         32.3365593 ,  32.47475052,  33.01579666,  33.28580475,\n",
       "         33.33054733,  33.8135643 ,  34.22870255,  34.95650864], dtype=float32))"
      ]
     },
     "execution_count": 100,
     "metadata": {},
     "output_type": "execute_result"
    }
   ],
   "source": [
    "i=4\n",
    "real[i], predicted[i]"
   ]
  },
  {
   "cell_type": "code",
   "execution_count": null,
   "metadata": {
    "collapsed": true
   },
   "outputs": [],
   "source": []
  },
  {
   "cell_type": "code",
   "execution_count": 95,
   "metadata": {},
   "outputs": [
    {
     "name": "stdout",
     "output_type": "stream",
     "text": [
      "RNN = 2.9013877300328494\n"
     ]
    }
   ],
   "source": [
    "print(\"RNN = {}\".format(metric(real, predicted)))"
   ]
  },
  {
   "cell_type": "code",
   "execution_count": null,
   "metadata": {
    "collapsed": true
   },
   "outputs": [],
   "source": []
  }
 ],
 "metadata": {
  "kernelspec": {
   "display_name": "Python 3",
   "language": "python",
   "name": "python3"
  },
  "language_info": {
   "codemirror_mode": {
    "name": "ipython",
    "version": 3
   },
   "file_extension": ".py",
   "mimetype": "text/x-python",
   "name": "python",
   "nbconvert_exporter": "python",
   "pygments_lexer": "ipython3",
   "version": "3.6.2"
  }
 },
 "nbformat": 4,
 "nbformat_minor": 2
}
