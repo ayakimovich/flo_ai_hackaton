{
 "cells": [
  {
   "cell_type": "code",
   "execution_count": 1,
   "metadata": {},
   "outputs": [
    {
     "name": "stderr",
     "output_type": "stream",
     "text": [
      "Using TensorFlow backend.\n",
      "/usr/local/Cellar/python3/3.6.2/Frameworks/Python.framework/Versions/3.6/lib/python3.6/importlib/_bootstrap.py:205: RuntimeWarning: compiletime version 3.5 of module '_catboost' does not match runtime version 3.6\n",
      "  return f(*args, **kwds)\n"
     ]
    }
   ],
   "source": [
    "import json\n",
    "import numpy as np\n",
    "import matplotlib.pyplot as plt\n",
    "from tqdm import tqdm\n",
    "%matplotlib inline\n",
    "from sklearn.preprocessing import MinMaxScaler\n",
    "from sklearn.metrics import mean_squared_error\n",
    "import keras.callbacks\n",
    "from keras.layers import Dense, Dropout, Activation, TimeDistributed, Input, concatenate\n",
    "from keras.layers.recurrent import LSTM\n",
    "from keras.models import Sequential, Model\n",
    "from sklearn.model_selection import train_test_split\n",
    "import pandas as pd\n",
    "from itertools import groupby\n",
    "import numpy.ma as ma\n",
    "import catboost\n",
    "from sklearn import metrics\n",
    "from keras.preprocessing.sequence import pad_sequences\n",
    "from keras.layers import Embedding"
   ]
  },
  {
   "cell_type": "code",
   "execution_count": 2,
   "metadata": {
    "collapsed": true
   },
   "outputs": [],
   "source": [
    "event_types = [\"bc613fb9d5\", \"bd18c260dd\", \"78a254eb1a\", \"60d7fad2cc\", \n",
    "               \"9f449c8a24\", \"44f0b93123\", \"c7863fbab6\", \"287a406e15\", \n",
    "               \"87d86c4ba1\", \"718ac49d0b\", \"1bea63552c\", \"4739c12685\", \n",
    "               \"09dff9a4e6\", \"e1218bb17f\", \"30fe294f41\", \"f3adcadc86\", \n",
    "               \"8fb049c69a\", \"a29c238412\", \"e5e18713a0\", \"bbfc7ae3f7\", \n",
    "               \"9c67e951dd\", \"5d5d31ecb1\", \"81b0435926\", \"8ccd550d04\", \n",
    "               \"416674c7cf\", \"96c40ef2e4\", \"221f9b90a3\", \"4234879f4b\", \n",
    "               \"444d9e80a6\", \"8b6000cce4\", \"d8c799feca\"]"
   ]
  },
  {
   "cell_type": "code",
   "execution_count": 3,
   "metadata": {
    "collapsed": true
   },
   "outputs": [],
   "source": [
    "def process_row(train_part):\n",
    "    train_part = json.loads(train_part)\n",
    "    x_row = []\n",
    "    y_row = []\n",
    "    for data_point in train_part:\n",
    "        x_data_point = [\n",
    "            np.mean(data_point[\"lengths_history\"]),\n",
    "            data_point['user_state'][\"age\"],\n",
    "            data_point['user_state']['height'],\n",
    "            data_point['user_state']['weight'],\n",
    "            data_point['user_state']['period_estimate'],\n",
    "            data_point['user_state']['luteal_estimate'],\n",
    "            data_point['user_state']['cycle_estimate'],\n",
    "            int(data_point['period_passed'])\n",
    "        ]\n",
    "        evts_map = {x['type'] : np.mean(x['value']) for x in data_point['events']}\n",
    "        for evt in event_types:\n",
    "            if evt in evts_map:\n",
    "                x_data_point.append(np.mean(evts_map[evt]))\n",
    "            else:\n",
    "                x_data_point.append(0)\n",
    "        x_data_point = [float('nan') if x is None else x for x in x_data_point]\n",
    "        x_row.append(np.array(x_data_point))\n",
    "        if 'label' in data_point:\n",
    "            lbl = data_point['label']\n",
    "            y_row.append(lbl)\n",
    "    return np.array(x_row), np.array(y_row)"
   ]
  },
  {
   "cell_type": "code",
   "execution_count": 47,
   "metadata": {},
   "outputs": [
    {
     "name": "stderr",
     "output_type": "stream",
     "text": [
      "0it [00:00, ?it/s]/usr/local/lib/python3.6/site-packages/numpy/core/fromnumeric.py:2909: RuntimeWarning: Mean of empty slice.\n",
      "  out=out, **kwargs)\n",
      "/usr/local/lib/python3.6/site-packages/numpy/core/_methods.py:80: RuntimeWarning: invalid value encountered in double_scalars\n",
      "  ret = ret.dtype.type(ret / rcount)\n",
      "129593it [10:04, 214.43it/s]\n"
     ]
    }
   ],
   "source": [
    "train_parts = []\n",
    "y_train_parts = []\n",
    "test_parts = []\n",
    "i = 0\n",
    "with open('/Users/vita/Downloads/flo/train_subsample.jsonl', 'r') as train_file, \\\n",
    "        open('/Users/vita/Downloads/flo/test_subsample.jsonl', 'r') as test_file:\n",
    "    for train_part, test_part in zip(tqdm(train_file), test_file):\n",
    "        i = i + 1\n",
    "#         if i > 25000:\n",
    "#             break\n",
    "            \n",
    "        train_x_row, train_y_row = process_row(train_part)\n",
    "        train_parts.append(train_x_row)\n",
    "        y_train_parts.append(train_y_row)\n",
    "\n",
    "#         test_x_row, test_y_row = process_row(test_part)\n",
    "#         test_parts.append(process_row(test_part))\n",
    "    y_train_parts = np.array(y_train_parts)\n",
    "    train_parts = np.array(train_parts)\n",
    "    test_parts = np.array(test_parts)"
   ]
  },
  {
   "cell_type": "code",
   "execution_count": 48,
   "metadata": {},
   "outputs": [],
   "source": [
    "X_train, X_test, y_train, y_test = train_test_split(train_parts, y_train_parts, test_size=0.3)"
   ]
  },
  {
   "cell_type": "code",
   "execution_count": 49,
   "metadata": {},
   "outputs": [],
   "source": [
    "# fill nan\n",
    "def fill_nan(data):\n",
    "    return np.array([np.where(np.isnan(x), ma.array(x, mask=np.isnan(x)).mean(axis=0), x) for x in data])\n",
    "\n",
    "X_train = fill_nan(X_train)\n",
    "# X_test = fill_nan(X_test)"
   ]
  },
  {
   "cell_type": "code",
   "execution_count": 50,
   "metadata": {},
   "outputs": [
    {
     "data": {
      "text/plain": [
       "((90715, 280, 39), (90715, 280, 1))"
      ]
     },
     "execution_count": 50,
     "metadata": {},
     "output_type": "execute_result"
    }
   ],
   "source": [
    "X_train = pad_sequences(X_train)\n",
    "y_train = pad_sequences(y_train)\n",
    "\n",
    "y_train = np.reshape(y_train, (y_train.shape[0], y_train.shape[1], 1))\n",
    "\n",
    "X_train.shape, y_train.shape"
   ]
  },
  {
   "cell_type": "code",
   "execution_count": 51,
   "metadata": {},
   "outputs": [
    {
     "name": "stderr",
     "output_type": "stream",
     "text": [
      "/usr/local/lib/python3.6/site-packages/sklearn/utils/validation.py:444: DataConversionWarning: Data with input dtype int32 was converted to float64 by MinMaxScaler.\n",
      "  warnings.warn(msg, DataConversionWarning)\n"
     ]
    },
    {
     "data": {
      "text/plain": [
       "(90715, 280, 39)"
      ]
     },
     "execution_count": 51,
     "metadata": {},
     "output_type": "execute_result"
    }
   ],
   "source": [
    "scaler = MinMaxScaler(feature_range=(0, 1))\n",
    "shp = X_train.shape\n",
    "X_train_scaled = np.reshape(X_train, (-1, shp[2]))\n",
    "X_train_scaled = scaler.fit_transform(X_train_scaled)\n",
    "X_train_scaled = np.reshape(X_train_scaled, shp)\n",
    "X_train_scaled.shape"
   ]
  },
  {
   "cell_type": "code",
   "execution_count": 93,
   "metadata": {
    "collapsed": true
   },
   "outputs": [
    {
     "name": "stdout",
     "output_type": "stream",
     "text": [
      "(38878,)\n"
     ]
    },
    {
     "ename": "IndexError",
     "evalue": "tuple index out of range",
     "output_type": "error",
     "traceback": [
      "\u001b[0;31m-----------------------------------------------------------\u001b[0m",
      "\u001b[0;31mIndexError\u001b[0m                Traceback (most recent call last)",
      "\u001b[0;32m<ipython-input-93-e0868bbc6867>\u001b[0m in \u001b[0;36m<module>\u001b[0;34m()\u001b[0m\n\u001b[1;32m      1\u001b[0m \u001b[0mshp\u001b[0m \u001b[0;34m=\u001b[0m \u001b[0mX_test\u001b[0m\u001b[0;34m.\u001b[0m\u001b[0mshape\u001b[0m\u001b[0;34m\u001b[0m\u001b[0m\n\u001b[1;32m      2\u001b[0m \u001b[0mprint\u001b[0m\u001b[0;34m(\u001b[0m\u001b[0mshp\u001b[0m\u001b[0;34m)\u001b[0m\u001b[0;34m\u001b[0m\u001b[0m\n\u001b[0;32m----> 3\u001b[0;31m \u001b[0mX_test_scaled\u001b[0m \u001b[0;34m=\u001b[0m \u001b[0mnp\u001b[0m\u001b[0;34m.\u001b[0m\u001b[0mreshape\u001b[0m\u001b[0;34m(\u001b[0m\u001b[0mX_test\u001b[0m\u001b[0;34m,\u001b[0m \u001b[0;34m(\u001b[0m\u001b[0;34m-\u001b[0m\u001b[0;36m1\u001b[0m\u001b[0;34m,\u001b[0m \u001b[0mshp\u001b[0m\u001b[0;34m[\u001b[0m\u001b[0;36m2\u001b[0m\u001b[0;34m]\u001b[0m\u001b[0;34m)\u001b[0m\u001b[0;34m)\u001b[0m\u001b[0;34m\u001b[0m\u001b[0m\n\u001b[0m\u001b[1;32m      4\u001b[0m \u001b[0mX_test_scaled\u001b[0m \u001b[0;34m=\u001b[0m \u001b[0mscaler\u001b[0m\u001b[0;34m.\u001b[0m\u001b[0mfit_transform\u001b[0m\u001b[0;34m(\u001b[0m\u001b[0mX_test_scaled\u001b[0m\u001b[0;34m)\u001b[0m\u001b[0;34m\u001b[0m\u001b[0m\n\u001b[1;32m      5\u001b[0m \u001b[0mX_test_scaled\u001b[0m \u001b[0;34m=\u001b[0m \u001b[0mnp\u001b[0m\u001b[0;34m.\u001b[0m\u001b[0mreshape\u001b[0m\u001b[0;34m(\u001b[0m\u001b[0mX_test_scaled\u001b[0m\u001b[0;34m,\u001b[0m \u001b[0mshp\u001b[0m\u001b[0;34m)\u001b[0m\u001b[0;34m\u001b[0m\u001b[0m\n",
      "\u001b[0;31mIndexError\u001b[0m: tuple index out of range"
     ]
    }
   ],
   "source": [
    "# shp = X_test.shape\n",
    "# print(shp)\n",
    "# X_test_scaled = np.reshape(X_test, (-1, shp[2]))\n",
    "# X_test_scaled = scaler.fit_transform(X_test_scaled)\n",
    "# X_test_scaled = np.reshape(X_test_scaled, shp)\n",
    "# X_test_scaled.shape"
   ]
  },
  {
   "cell_type": "code",
   "execution_count": 52,
   "metadata": {
    "collapsed": true
   },
   "outputs": [],
   "source": [
    "X_train_antrop = np.array(X_train_scaled[:,:,0:7])\n",
    "X_train_evt = np.array(X_train_scaled[:,:,7:])\n",
    "\n",
    "# X_test_antrop = np.array(X_test_scaled[:,:,0:7])\n",
    "# X_test_evt = np.array(X_test_scaled[:,:,7:])"
   ]
  },
  {
   "cell_type": "code",
   "execution_count": 65,
   "metadata": {
    "collapsed": true
   },
   "outputs": [],
   "source": [
    "def create_model():\n",
    "    inputs = Input(shape=(X_train.shape[1], X_train.shape[2]))    \n",
    "    x = LSTM(4, return_sequences=True)(inputs)\n",
    "#     x = Dropout(.5)(x)\n",
    "#     x = Dense(512)(x)\n",
    "#     x = Dropout(.5)(x)\n",
    "#     x = Dense(512)(x)\n",
    "#     x = Dropout(.5)(x)\n",
    "    outputs = TimeDistributed(Dense(1))(x)\n",
    "    model = Model(inputs, outputs)\n",
    "    model.compile('adam', 'mean_absolute_error')\n",
    "    return model"
   ]
  },
  {
   "cell_type": "code",
   "execution_count": 53,
   "metadata": {
    "collapsed": true
   },
   "outputs": [],
   "source": [
    "def create_model_2():\n",
    "    evts_input = Input(shape=(X_train_evt.shape[1], X_train_evt.shape[2]))    \n",
    "    lstm_out = LSTM(32, return_sequences=True)(evts_input)\n",
    "    lstm_out = Dropout(.5)(lstm_out)\n",
    "    input_2 = Input(shape=(X_train_antrop.shape[1], X_train_antrop.shape[2]))    \n",
    "    x = keras.layers.concatenate([lstm_out, input_2])\n",
    "    x = Dense(64, activation='relu')(x)\n",
    "    x = Dropout(.25)(x)\n",
    "    x = Dense(64, activation='relu')(x)\n",
    "    x = Dropout(.25)(x)\n",
    "    x = Dense(64, activation='relu')(x)\n",
    "    x = Dropout(.25)(x)\n",
    "    outputs = TimeDistributed(Dense(1))(x)\n",
    "    model = Model(inputs=[evts_input, input_2], outputs=outputs)\n",
    "    model.compile('adam', 'mean_absolute_error')\n",
    "    return model"
   ]
  },
  {
   "cell_type": "code",
   "execution_count": 59,
   "metadata": {
    "scrolled": true
   },
   "outputs": [
    {
     "name": "stderr",
     "output_type": "stream",
     "text": [
      "/usr/local/lib/python3.6/site-packages/ipykernel_launcher.py:4: UserWarning: The `nb_epoch` argument in `fit` has been renamed `epochs`.\n",
      "  after removing the cwd from sys.path.\n"
     ]
    },
    {
     "name": "stdout",
     "output_type": "stream",
     "text": [
      "Train on 81643 samples, validate on 9072 samples\n",
      "Epoch 1/20\n",
      "81643/81643 [==============================] - 758s - loss: 2.7720 - val_loss: 1.6630\n",
      "Epoch 2/20\n",
      "81643/81643 [==============================] - 739s - loss: 2.0918 - val_loss: 1.4535\n",
      "Epoch 3/20\n",
      "81643/81643 [==============================] - 738s - loss: 2.0179 - val_loss: 1.3681\n",
      "Epoch 4/20\n",
      "81643/81643 [==============================] - 741s - loss: 1.9846 - val_loss: 1.4011\n",
      "Epoch 5/20\n",
      "81643/81643 [==============================] - 741s - loss: 1.9637 - val_loss: 1.3057\n",
      "Epoch 6/20\n",
      "81643/81643 [==============================] - 784s - loss: 1.9465 - val_loss: 1.3386\n",
      "Epoch 7/20\n",
      "33088/81643 [===========>..................] - ETA: 532s - loss: 1.9198"
     ]
    },
    {
     "ename": "KeyboardInterrupt",
     "evalue": "",
     "output_type": "error",
     "traceback": [
      "\u001b[0;31m-----------------------------------------------------------\u001b[0m",
      "\u001b[0;31mKeyboardInterrupt\u001b[0m         Traceback (most recent call last)",
      "\u001b[0;32m<ipython-input-59-608e82b0c73a>\u001b[0m in \u001b[0;36m<module>\u001b[0;34m()\u001b[0m\n\u001b[1;32m      2\u001b[0m \u001b[0;31m# model.fit(X_train_scaled, y_train, batch_size=32, nb_epoch=10, validation_split=0.1, verbose=1)\u001b[0m\u001b[0;34m\u001b[0m\u001b[0;34m\u001b[0m\u001b[0m\n\u001b[1;32m      3\u001b[0m \u001b[0mmodel_2\u001b[0m \u001b[0;34m=\u001b[0m \u001b[0mcreate_model_2\u001b[0m\u001b[0;34m(\u001b[0m\u001b[0;34m)\u001b[0m\u001b[0;34m\u001b[0m\u001b[0m\n\u001b[0;32m----> 4\u001b[0;31m \u001b[0mmodel_2\u001b[0m\u001b[0;34m.\u001b[0m\u001b[0mfit\u001b[0m\u001b[0;34m(\u001b[0m\u001b[0;34m[\u001b[0m\u001b[0mX_train_evt\u001b[0m\u001b[0;34m,\u001b[0m \u001b[0mX_train_antrop\u001b[0m\u001b[0;34m]\u001b[0m\u001b[0;34m,\u001b[0m \u001b[0my_train\u001b[0m\u001b[0;34m,\u001b[0m \u001b[0mbatch_size\u001b[0m\u001b[0;34m=\u001b[0m\u001b[0;36m64\u001b[0m\u001b[0;34m,\u001b[0m \u001b[0mnb_epoch\u001b[0m\u001b[0;34m=\u001b[0m\u001b[0;36m20\u001b[0m\u001b[0;34m,\u001b[0m \u001b[0mvalidation_split\u001b[0m\u001b[0;34m=\u001b[0m\u001b[0;36m0.1\u001b[0m\u001b[0;34m,\u001b[0m \u001b[0mverbose\u001b[0m\u001b[0;34m=\u001b[0m\u001b[0;36m1\u001b[0m\u001b[0;34m)\u001b[0m\u001b[0;34m\u001b[0m\u001b[0m\n\u001b[0m",
      "\u001b[0;32m/usr/local/lib/python3.6/site-packages/keras/engine/training.py\u001b[0m in \u001b[0;36mfit\u001b[0;34m(self, x, y, batch_size, epochs, verbose, callbacks, validation_split, validation_data, shuffle, class_weight, sample_weight, initial_epoch, steps_per_epoch, validation_steps, **kwargs)\u001b[0m\n\u001b[1;32m   1596\u001b[0m                               \u001b[0minitial_epoch\u001b[0m\u001b[0;34m=\u001b[0m\u001b[0minitial_epoch\u001b[0m\u001b[0;34m,\u001b[0m\u001b[0;34m\u001b[0m\u001b[0m\n\u001b[1;32m   1597\u001b[0m                               \u001b[0msteps_per_epoch\u001b[0m\u001b[0;34m=\u001b[0m\u001b[0msteps_per_epoch\u001b[0m\u001b[0;34m,\u001b[0m\u001b[0;34m\u001b[0m\u001b[0m\n\u001b[0;32m-> 1598\u001b[0;31m                               validation_steps=validation_steps)\n\u001b[0m\u001b[1;32m   1599\u001b[0m \u001b[0;34m\u001b[0m\u001b[0m\n\u001b[1;32m   1600\u001b[0m     def evaluate(self, x, y,\n",
      "\u001b[0;32m/usr/local/lib/python3.6/site-packages/keras/engine/training.py\u001b[0m in \u001b[0;36m_fit_loop\u001b[0;34m(self, f, ins, out_labels, batch_size, epochs, verbose, callbacks, val_f, val_ins, shuffle, callback_metrics, initial_epoch, steps_per_epoch, validation_steps)\u001b[0m\n\u001b[1;32m   1181\u001b[0m                     \u001b[0mbatch_logs\u001b[0m\u001b[0;34m[\u001b[0m\u001b[0;34m'size'\u001b[0m\u001b[0;34m]\u001b[0m \u001b[0;34m=\u001b[0m \u001b[0mlen\u001b[0m\u001b[0;34m(\u001b[0m\u001b[0mbatch_ids\u001b[0m\u001b[0;34m)\u001b[0m\u001b[0;34m\u001b[0m\u001b[0m\n\u001b[1;32m   1182\u001b[0m                     \u001b[0mcallbacks\u001b[0m\u001b[0;34m.\u001b[0m\u001b[0mon_batch_begin\u001b[0m\u001b[0;34m(\u001b[0m\u001b[0mbatch_index\u001b[0m\u001b[0;34m,\u001b[0m \u001b[0mbatch_logs\u001b[0m\u001b[0;34m)\u001b[0m\u001b[0;34m\u001b[0m\u001b[0m\n\u001b[0;32m-> 1183\u001b[0;31m                     \u001b[0mouts\u001b[0m \u001b[0;34m=\u001b[0m \u001b[0mf\u001b[0m\u001b[0;34m(\u001b[0m\u001b[0mins_batch\u001b[0m\u001b[0;34m)\u001b[0m\u001b[0;34m\u001b[0m\u001b[0m\n\u001b[0m\u001b[1;32m   1184\u001b[0m                     \u001b[0;32mif\u001b[0m \u001b[0;32mnot\u001b[0m \u001b[0misinstance\u001b[0m\u001b[0;34m(\u001b[0m\u001b[0mouts\u001b[0m\u001b[0;34m,\u001b[0m \u001b[0mlist\u001b[0m\u001b[0;34m)\u001b[0m\u001b[0;34m:\u001b[0m\u001b[0;34m\u001b[0m\u001b[0m\n\u001b[1;32m   1185\u001b[0m                         \u001b[0mouts\u001b[0m \u001b[0;34m=\u001b[0m \u001b[0;34m[\u001b[0m\u001b[0mouts\u001b[0m\u001b[0;34m]\u001b[0m\u001b[0;34m\u001b[0m\u001b[0m\n",
      "\u001b[0;32m/usr/local/lib/python3.6/site-packages/keras/backend/tensorflow_backend.py\u001b[0m in \u001b[0;36m__call__\u001b[0;34m(self, inputs)\u001b[0m\n\u001b[1;32m   2271\u001b[0m         updated = session.run(self.outputs + [self.updates_op],\n\u001b[1;32m   2272\u001b[0m                               \u001b[0mfeed_dict\u001b[0m\u001b[0;34m=\u001b[0m\u001b[0mfeed_dict\u001b[0m\u001b[0;34m,\u001b[0m\u001b[0;34m\u001b[0m\u001b[0m\n\u001b[0;32m-> 2273\u001b[0;31m                               **self.session_kwargs)\n\u001b[0m\u001b[1;32m   2274\u001b[0m         \u001b[0;32mreturn\u001b[0m \u001b[0mupdated\u001b[0m\u001b[0;34m[\u001b[0m\u001b[0;34m:\u001b[0m\u001b[0mlen\u001b[0m\u001b[0;34m(\u001b[0m\u001b[0mself\u001b[0m\u001b[0;34m.\u001b[0m\u001b[0moutputs\u001b[0m\u001b[0;34m)\u001b[0m\u001b[0;34m]\u001b[0m\u001b[0;34m\u001b[0m\u001b[0m\n\u001b[1;32m   2275\u001b[0m \u001b[0;34m\u001b[0m\u001b[0m\n",
      "\u001b[0;32m/usr/local/lib/python3.6/site-packages/tensorflow/python/client/session.py\u001b[0m in \u001b[0;36mrun\u001b[0;34m(self, fetches, feed_dict, options, run_metadata)\u001b[0m\n\u001b[1;32m    893\u001b[0m     \u001b[0;32mtry\u001b[0m\u001b[0;34m:\u001b[0m\u001b[0;34m\u001b[0m\u001b[0m\n\u001b[1;32m    894\u001b[0m       result = self._run(None, fetches, feed_dict, options_ptr,\n\u001b[0;32m--> 895\u001b[0;31m                          run_metadata_ptr)\n\u001b[0m\u001b[1;32m    896\u001b[0m       \u001b[0;32mif\u001b[0m \u001b[0mrun_metadata\u001b[0m\u001b[0;34m:\u001b[0m\u001b[0;34m\u001b[0m\u001b[0m\n\u001b[1;32m    897\u001b[0m         \u001b[0mproto_data\u001b[0m \u001b[0;34m=\u001b[0m \u001b[0mtf_session\u001b[0m\u001b[0;34m.\u001b[0m\u001b[0mTF_GetBuffer\u001b[0m\u001b[0;34m(\u001b[0m\u001b[0mrun_metadata_ptr\u001b[0m\u001b[0;34m)\u001b[0m\u001b[0;34m\u001b[0m\u001b[0m\n",
      "\u001b[0;32m/usr/local/lib/python3.6/site-packages/tensorflow/python/client/session.py\u001b[0m in \u001b[0;36m_run\u001b[0;34m(self, handle, fetches, feed_dict, options, run_metadata)\u001b[0m\n\u001b[1;32m   1122\u001b[0m     \u001b[0;32mif\u001b[0m \u001b[0mfinal_fetches\u001b[0m \u001b[0;32mor\u001b[0m \u001b[0mfinal_targets\u001b[0m \u001b[0;32mor\u001b[0m \u001b[0;34m(\u001b[0m\u001b[0mhandle\u001b[0m \u001b[0;32mand\u001b[0m \u001b[0mfeed_dict_tensor\u001b[0m\u001b[0;34m)\u001b[0m\u001b[0;34m:\u001b[0m\u001b[0;34m\u001b[0m\u001b[0m\n\u001b[1;32m   1123\u001b[0m       results = self._do_run(handle, final_targets, final_fetches,\n\u001b[0;32m-> 1124\u001b[0;31m                              feed_dict_tensor, options, run_metadata)\n\u001b[0m\u001b[1;32m   1125\u001b[0m     \u001b[0;32melse\u001b[0m\u001b[0;34m:\u001b[0m\u001b[0;34m\u001b[0m\u001b[0m\n\u001b[1;32m   1126\u001b[0m       \u001b[0mresults\u001b[0m \u001b[0;34m=\u001b[0m \u001b[0;34m[\u001b[0m\u001b[0;34m]\u001b[0m\u001b[0;34m\u001b[0m\u001b[0m\n",
      "\u001b[0;32m/usr/local/lib/python3.6/site-packages/tensorflow/python/client/session.py\u001b[0m in \u001b[0;36m_do_run\u001b[0;34m(self, handle, target_list, fetch_list, feed_dict, options, run_metadata)\u001b[0m\n\u001b[1;32m   1319\u001b[0m     \u001b[0;32mif\u001b[0m \u001b[0mhandle\u001b[0m \u001b[0;32mis\u001b[0m \u001b[0;32mNone\u001b[0m\u001b[0;34m:\u001b[0m\u001b[0;34m\u001b[0m\u001b[0m\n\u001b[1;32m   1320\u001b[0m       return self._do_call(_run_fn, self._session, feeds, fetches, targets,\n\u001b[0;32m-> 1321\u001b[0;31m                            options, run_metadata)\n\u001b[0m\u001b[1;32m   1322\u001b[0m     \u001b[0;32melse\u001b[0m\u001b[0;34m:\u001b[0m\u001b[0;34m\u001b[0m\u001b[0m\n\u001b[1;32m   1323\u001b[0m       \u001b[0;32mreturn\u001b[0m \u001b[0mself\u001b[0m\u001b[0;34m.\u001b[0m\u001b[0m_do_call\u001b[0m\u001b[0;34m(\u001b[0m\u001b[0m_prun_fn\u001b[0m\u001b[0;34m,\u001b[0m \u001b[0mself\u001b[0m\u001b[0;34m.\u001b[0m\u001b[0m_session\u001b[0m\u001b[0;34m,\u001b[0m \u001b[0mhandle\u001b[0m\u001b[0;34m,\u001b[0m \u001b[0mfeeds\u001b[0m\u001b[0;34m,\u001b[0m \u001b[0mfetches\u001b[0m\u001b[0;34m)\u001b[0m\u001b[0;34m\u001b[0m\u001b[0m\n",
      "\u001b[0;32m/usr/local/lib/python3.6/site-packages/tensorflow/python/client/session.py\u001b[0m in \u001b[0;36m_do_call\u001b[0;34m(self, fn, *args)\u001b[0m\n\u001b[1;32m   1325\u001b[0m   \u001b[0;32mdef\u001b[0m \u001b[0m_do_call\u001b[0m\u001b[0;34m(\u001b[0m\u001b[0mself\u001b[0m\u001b[0;34m,\u001b[0m \u001b[0mfn\u001b[0m\u001b[0;34m,\u001b[0m \u001b[0;34m*\u001b[0m\u001b[0margs\u001b[0m\u001b[0;34m)\u001b[0m\u001b[0;34m:\u001b[0m\u001b[0;34m\u001b[0m\u001b[0m\n\u001b[1;32m   1326\u001b[0m     \u001b[0;32mtry\u001b[0m\u001b[0;34m:\u001b[0m\u001b[0;34m\u001b[0m\u001b[0m\n\u001b[0;32m-> 1327\u001b[0;31m       \u001b[0;32mreturn\u001b[0m \u001b[0mfn\u001b[0m\u001b[0;34m(\u001b[0m\u001b[0;34m*\u001b[0m\u001b[0margs\u001b[0m\u001b[0;34m)\u001b[0m\u001b[0;34m\u001b[0m\u001b[0m\n\u001b[0m\u001b[1;32m   1328\u001b[0m     \u001b[0;32mexcept\u001b[0m \u001b[0merrors\u001b[0m\u001b[0;34m.\u001b[0m\u001b[0mOpError\u001b[0m \u001b[0;32mas\u001b[0m \u001b[0me\u001b[0m\u001b[0;34m:\u001b[0m\u001b[0;34m\u001b[0m\u001b[0m\n\u001b[1;32m   1329\u001b[0m       \u001b[0mmessage\u001b[0m \u001b[0;34m=\u001b[0m \u001b[0mcompat\u001b[0m\u001b[0;34m.\u001b[0m\u001b[0mas_text\u001b[0m\u001b[0;34m(\u001b[0m\u001b[0me\u001b[0m\u001b[0;34m.\u001b[0m\u001b[0mmessage\u001b[0m\u001b[0;34m)\u001b[0m\u001b[0;34m\u001b[0m\u001b[0m\n",
      "\u001b[0;32m/usr/local/lib/python3.6/site-packages/tensorflow/python/client/session.py\u001b[0m in \u001b[0;36m_run_fn\u001b[0;34m(session, feed_dict, fetch_list, target_list, options, run_metadata)\u001b[0m\n\u001b[1;32m   1304\u001b[0m           return tf_session.TF_Run(session, options,\n\u001b[1;32m   1305\u001b[0m                                    \u001b[0mfeed_dict\u001b[0m\u001b[0;34m,\u001b[0m \u001b[0mfetch_list\u001b[0m\u001b[0;34m,\u001b[0m \u001b[0mtarget_list\u001b[0m\u001b[0;34m,\u001b[0m\u001b[0;34m\u001b[0m\u001b[0m\n\u001b[0;32m-> 1306\u001b[0;31m                                    status, run_metadata)\n\u001b[0m\u001b[1;32m   1307\u001b[0m \u001b[0;34m\u001b[0m\u001b[0m\n\u001b[1;32m   1308\u001b[0m     \u001b[0;32mdef\u001b[0m \u001b[0m_prun_fn\u001b[0m\u001b[0;34m(\u001b[0m\u001b[0msession\u001b[0m\u001b[0;34m,\u001b[0m \u001b[0mhandle\u001b[0m\u001b[0;34m,\u001b[0m \u001b[0mfeed_dict\u001b[0m\u001b[0;34m,\u001b[0m \u001b[0mfetch_list\u001b[0m\u001b[0;34m)\u001b[0m\u001b[0;34m:\u001b[0m\u001b[0;34m\u001b[0m\u001b[0m\n",
      "\u001b[0;31mKeyboardInterrupt\u001b[0m: "
     ]
    }
   ],
   "source": [
    "# model = create_model()\n",
    "# model.fit(X_train_scaled, y_train, batch_size=32, nb_epoch=10, validation_split=0.1, verbose=1)\n",
    "model_2 = create_model_2()\n",
    "model_2.fit([X_train_evt, X_train_antrop], y_train, batch_size=64, nb_epoch=20, validation_split=0.1, verbose=1)"
   ]
  },
  {
   "cell_type": "code",
   "execution_count": 60,
   "metadata": {
    "collapsed": true
   },
   "outputs": [],
   "source": [
    "# pred = model.predict(X_train_scaled[1:2])\n",
    "pred = model_2.predict([X_train_evt[0:100], X_train_antrop[0:100]])\n",
    "# list(zip(pred[0,:,0], y_train[0,:,0]))\n",
    "# list(zip(pred, y_train[0:1]))"
   ]
  },
  {
   "cell_type": "code",
   "execution_count": 63,
   "metadata": {},
   "outputs": [
    {
     "data": {
      "text/plain": [
       "[(-6.3719934e-05, 0),\n",
       " (-6.3719934e-05, 0),\n",
       " (-6.3719934e-05, 0),\n",
       " (-6.3719934e-05, 0),\n",
       " (-6.3719934e-05, 0),\n",
       " (-6.3719934e-05, 0),\n",
       " (-6.3719934e-05, 0),\n",
       " (-6.3719934e-05, 0),\n",
       " (-6.3719934e-05, 0),\n",
       " (-6.3719934e-05, 0),\n",
       " (-6.3719934e-05, 0),\n",
       " (-6.3719934e-05, 0),\n",
       " (-6.3719934e-05, 0),\n",
       " (-6.3719934e-05, 0),\n",
       " (-6.3719934e-05, 0),\n",
       " (-6.3719934e-05, 0),\n",
       " (-6.3719934e-05, 0),\n",
       " (-6.3719934e-05, 0),\n",
       " (-6.3719934e-05, 0),\n",
       " (-6.3719934e-05, 0),\n",
       " (-6.3719934e-05, 0),\n",
       " (-6.3719934e-05, 0),\n",
       " (-6.3719934e-05, 0),\n",
       " (-6.3719934e-05, 0),\n",
       " (-6.3719934e-05, 0),\n",
       " (-6.3719934e-05, 0),\n",
       " (-6.3719934e-05, 0),\n",
       " (-6.3719934e-05, 0),\n",
       " (-6.3719934e-05, 0),\n",
       " (-6.3719934e-05, 0),\n",
       " (-6.3719934e-05, 0),\n",
       " (-6.3719934e-05, 0),\n",
       " (-6.3719934e-05, 0),\n",
       " (-6.3719934e-05, 0),\n",
       " (-6.3719934e-05, 0),\n",
       " (-6.3719934e-05, 0),\n",
       " (-6.3719934e-05, 0),\n",
       " (-6.3719934e-05, 0),\n",
       " (-6.3719934e-05, 0),\n",
       " (-6.3719934e-05, 0),\n",
       " (-6.3719934e-05, 0),\n",
       " (-6.3719934e-05, 0),\n",
       " (-6.3719934e-05, 0),\n",
       " (-6.3719934e-05, 0),\n",
       " (-6.3719934e-05, 0),\n",
       " (-6.3719934e-05, 0),\n",
       " (-6.3719934e-05, 0),\n",
       " (-6.3719934e-05, 0),\n",
       " (-6.3719934e-05, 0),\n",
       " (-6.3719934e-05, 0),\n",
       " (-6.3719934e-05, 0),\n",
       " (-6.3719934e-05, 0),\n",
       " (-6.3719934e-05, 0),\n",
       " (-6.3719934e-05, 0),\n",
       " (-6.3719934e-05, 0),\n",
       " (-6.3719934e-05, 0),\n",
       " (-6.3719934e-05, 0),\n",
       " (-6.3719934e-05, 0),\n",
       " (-6.3719934e-05, 0),\n",
       " (-6.3719934e-05, 0),\n",
       " (-6.3719934e-05, 0),\n",
       " (-6.3719934e-05, 0),\n",
       " (-6.3719934e-05, 0),\n",
       " (-6.3719934e-05, 0),\n",
       " (-6.3719934e-05, 0),\n",
       " (-6.3719934e-05, 0),\n",
       " (-6.3719934e-05, 0),\n",
       " (-6.3719934e-05, 0),\n",
       " (-6.3719934e-05, 0),\n",
       " (-6.3719934e-05, 0),\n",
       " (-6.3719934e-05, 0),\n",
       " (-6.3719934e-05, 0),\n",
       " (-6.3719934e-05, 0),\n",
       " (-6.3719934e-05, 0),\n",
       " (-6.3719934e-05, 0),\n",
       " (-6.3719934e-05, 0),\n",
       " (-6.3719934e-05, 0),\n",
       " (-6.3719934e-05, 0),\n",
       " (-6.3719934e-05, 0),\n",
       " (-6.3719934e-05, 0),\n",
       " (-6.3719934e-05, 0),\n",
       " (-6.3719934e-05, 0),\n",
       " (-6.3719934e-05, 0),\n",
       " (-6.3719934e-05, 0),\n",
       " (-6.3719934e-05, 0),\n",
       " (-6.3719934e-05, 0),\n",
       " (-6.3719934e-05, 0),\n",
       " (-6.3719934e-05, 0),\n",
       " (-6.3719934e-05, 0),\n",
       " (-6.3719934e-05, 0),\n",
       " (-6.3719934e-05, 0),\n",
       " (-6.3719934e-05, 0),\n",
       " (-6.3719934e-05, 0),\n",
       " (-6.3719934e-05, 0),\n",
       " (-6.3719934e-05, 0),\n",
       " (-6.3719934e-05, 0),\n",
       " (-6.3719934e-05, 0),\n",
       " (-6.3719934e-05, 0),\n",
       " (-6.3719934e-05, 0),\n",
       " (-6.3719934e-05, 0),\n",
       " (-6.3719934e-05, 0),\n",
       " (-6.3719934e-05, 0),\n",
       " (-6.3719934e-05, 0),\n",
       " (-6.3719934e-05, 0),\n",
       " (-6.3719934e-05, 0),\n",
       " (-6.3719934e-05, 0),\n",
       " (-6.3719934e-05, 0),\n",
       " (-6.3719934e-05, 0),\n",
       " (-6.3719934e-05, 0),\n",
       " (-6.3719934e-05, 0),\n",
       " (-6.3719934e-05, 0),\n",
       " (-6.3719934e-05, 0),\n",
       " (-6.3719934e-05, 0),\n",
       " (-6.3719934e-05, 0),\n",
       " (-6.3719934e-05, 0),\n",
       " (-6.3719934e-05, 0),\n",
       " (-6.3719934e-05, 0),\n",
       " (-6.3719934e-05, 0),\n",
       " (-6.3719934e-05, 0),\n",
       " (-6.3719934e-05, 0),\n",
       " (-6.3719934e-05, 0),\n",
       " (-6.3719934e-05, 0),\n",
       " (-6.3719934e-05, 0),\n",
       " (-6.3719934e-05, 0),\n",
       " (-6.3719934e-05, 0),\n",
       " (-6.3719934e-05, 0),\n",
       " (-6.3719934e-05, 0),\n",
       " (-6.3719934e-05, 0),\n",
       " (-6.3719934e-05, 0),\n",
       " (-6.3719934e-05, 0),\n",
       " (-6.3719934e-05, 0),\n",
       " (-6.3719934e-05, 0),\n",
       " (-6.3719934e-05, 0),\n",
       " (-6.3719934e-05, 0),\n",
       " (-6.3719934e-05, 0),\n",
       " (-6.3719934e-05, 0),\n",
       " (-6.3719934e-05, 0),\n",
       " (-6.3719934e-05, 0),\n",
       " (-6.3719934e-05, 0),\n",
       " (-6.3719934e-05, 0),\n",
       " (-6.3719934e-05, 0),\n",
       " (-6.3719934e-05, 0),\n",
       " (-6.3719934e-05, 0),\n",
       " (-6.3719934e-05, 0),\n",
       " (-6.3719934e-05, 0),\n",
       " (-6.3719934e-05, 0),\n",
       " (-6.3719934e-05, 0),\n",
       " (-6.3719934e-05, 0),\n",
       " (-6.3719934e-05, 0),\n",
       " (-6.3719934e-05, 0),\n",
       " (-6.3719934e-05, 0),\n",
       " (-6.3719934e-05, 0),\n",
       " (-6.3719934e-05, 0),\n",
       " (-6.3719934e-05, 0),\n",
       " (-6.3719934e-05, 0),\n",
       " (-6.3719934e-05, 0),\n",
       " (-6.3719934e-05, 0),\n",
       " (-6.3719934e-05, 0),\n",
       " (-6.3719934e-05, 0),\n",
       " (-6.3719934e-05, 0),\n",
       " (-6.3719934e-05, 0),\n",
       " (-6.3719934e-05, 0),\n",
       " (-6.3719934e-05, 0),\n",
       " (-6.3719934e-05, 0),\n",
       " (-6.3719934e-05, 0),\n",
       " (-6.3719934e-05, 0),\n",
       " (-6.3719934e-05, 0),\n",
       " (-6.3719934e-05, 0),\n",
       " (-6.3719934e-05, 0),\n",
       " (-6.3719934e-05, 0),\n",
       " (-6.3719934e-05, 0),\n",
       " (-6.3719934e-05, 0),\n",
       " (-6.3719934e-05, 0),\n",
       " (-6.3719934e-05, 0),\n",
       " (-6.3719934e-05, 0),\n",
       " (-6.3719934e-05, 0),\n",
       " (-6.3719934e-05, 0),\n",
       " (-6.3719934e-05, 0),\n",
       " (-6.3719934e-05, 0),\n",
       " (-6.3719934e-05, 0),\n",
       " (-6.3719934e-05, 0),\n",
       " (-6.3719934e-05, 0),\n",
       " (-6.3719934e-05, 0),\n",
       " (-6.3719934e-05, 0),\n",
       " (-6.3719934e-05, 0),\n",
       " (-6.3719934e-05, 0),\n",
       " (-6.3719934e-05, 0),\n",
       " (-6.3719934e-05, 0),\n",
       " (-6.3719934e-05, 0),\n",
       " (-6.3719934e-05, 0),\n",
       " (-6.3719934e-05, 0),\n",
       " (-6.3719934e-05, 0),\n",
       " (-6.3719934e-05, 0),\n",
       " (-6.3719934e-05, 0),\n",
       " (-6.3719934e-05, 0),\n",
       " (-6.3719934e-05, 0),\n",
       " (-6.3719934e-05, 0),\n",
       " (24.552999, 23),\n",
       " (24.552999, 23),\n",
       " (24.552999, 23),\n",
       " (24.398636, 23),\n",
       " (24.563833, 23),\n",
       " (24.331598, 23),\n",
       " (24.23958, 23),\n",
       " (24.204702, 23),\n",
       " (24.193777, 23),\n",
       " (24.187513, 23),\n",
       " (24.185249, 23),\n",
       " (24.187872, 23),\n",
       " (24.195829, 23),\n",
       " (24.209036, 23),\n",
       " (24.227089, 23),\n",
       " (24.25165, 23),\n",
       " (24.284449, 23),\n",
       " (24.321724, 23),\n",
       " (24.363092, 23),\n",
       " (24.408327, 23),\n",
       " (24.457373, 23),\n",
       " (24.52907, 23),\n",
       " (24.638414, 23),\n",
       " (24.789904, 23),\n",
       " (24.9666, 23),\n",
       " (25.099895, 23),\n",
       " (25.148733, 23),\n",
       " (24.984163, 23),\n",
       " (24.861507, 23),\n",
       " (24.801447, 23),\n",
       " (24.761648, 23),\n",
       " (24.739763, 23),\n",
       " (24.732571, 23),\n",
       " (24.736513, 23),\n",
       " (24.748255, 23),\n",
       " (24.765005, 23),\n",
       " (24.7847, 23),\n",
       " (24.797367, 23),\n",
       " (24.817114, 23),\n",
       " (24.840506, 23),\n",
       " (24.864286, 23),\n",
       " (24.903799, 23),\n",
       " (24.962839, 23),\n",
       " (25.042404, 23),\n",
       " (25.191111, 23),\n",
       " (25.42108, 23),\n",
       " (25.667244, 23),\n",
       " (25.926641, 23),\n",
       " (25.292677, 34),\n",
       " (25.27157, 34),\n",
       " (25.265631, 34),\n",
       " (25.151072, 34),\n",
       " (25.097227, 34),\n",
       " (24.88446, 34),\n",
       " (24.85898, 34),\n",
       " (24.812866, 34),\n",
       " (24.773712, 34),\n",
       " (24.721416, 34),\n",
       " (24.845543, 34),\n",
       " (24.875889, 34),\n",
       " (24.871019, 34),\n",
       " (24.868776, 34),\n",
       " (24.875051, 34),\n",
       " (24.890388, 34),\n",
       " (24.915365, 34),\n",
       " (24.974785, 34),\n",
       " (25.015064, 34),\n",
       " (25.065664, 34),\n",
       " (25.175966, 34),\n",
       " (25.360632, 34),\n",
       " (25.578962, 34),\n",
       " (25.786932, 34),\n",
       " (26.081503, 34),\n",
       " (26.570845, 34),\n",
       " (27.365847, 34),\n",
       " (27.991838, 34),\n",
       " (28.551409, 34),\n",
       " (29.201166, 34),\n",
       " (29.878321, 34),\n",
       " (30.596478, 34),\n",
       " (31.422148, 34),\n",
       " (32.30645, 34),\n",
       " (33.309864, 34)]"
      ]
     },
     "execution_count": 63,
     "metadata": {},
     "output_type": "execute_result"
    }
   ],
   "source": [
    "ind = 32\n",
    "list(zip(pred[ind,:,0], y_train[ind,:,0]))"
   ]
  },
  {
   "cell_type": "code",
   "execution_count": null,
   "metadata": {
    "collapsed": true
   },
   "outputs": [],
   "source": []
  }
 ],
 "metadata": {
  "kernelspec": {
   "display_name": "Python 3",
   "language": "python",
   "name": "python3"
  },
  "language_info": {
   "codemirror_mode": {
    "name": "ipython",
    "version": 3
   },
   "file_extension": ".py",
   "mimetype": "text/x-python",
   "name": "python",
   "nbconvert_exporter": "python",
   "pygments_lexer": "ipython3",
   "version": "3.6.2"
  }
 },
 "nbformat": 4,
 "nbformat_minor": 2
}
