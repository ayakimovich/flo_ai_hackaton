{
 "cells": [
  {
   "cell_type": "code",
   "execution_count": 1,
   "metadata": {
    "collapsed": true
   },
   "outputs": [],
   "source": [
    "import json\n",
    "import numpy as np\n",
    "import matplotlib.pyplot as plt\n",
    "from tqdm import tqdm\n",
    "%matplotlib inline"
   ]
  },
  {
   "cell_type": "code",
   "execution_count": 3,
   "metadata": {
    "collapsed": true
   },
   "outputs": [
    {
     "name": "stderr",
     "output_type": "stream",
     "text": [
      "\n",
      "0it [00:00, ?it/s]\u001b[A\n",
      "96it [00:00, 952.91it/s]\u001b[A\n",
      "197it [00:00, 973.32it/s]\u001b[A\n",
      "292it [00:00, 963.03it/s]\u001b[A\n",
      "384it [00:00, 950.53it/s]\u001b[A\n",
      "479it [00:00, 949.89it/s]\u001b[A\n",
      "585it [00:00, 966.81it/s]\u001b[A\n",
      "688it [00:00, 974.97it/s]\u001b[A\n",
      "784it [00:00, 972.84it/s]\u001b[A\n",
      "877it [00:00, 966.26it/s]\u001b[A\n",
      "974it [00:01, 966.61it/s]\u001b[A\n",
      "1070it [00:01, 965.24it/s]\u001b[A\n",
      "1170it [00:01, 968.16it/s]\u001b[A\n",
      "1273it [00:01, 973.06it/s]\u001b[A\n",
      "1372it [00:01, 972.66it/s]\u001b[A\n",
      "1470it [00:01, 969.27it/s]\u001b[A\n",
      "1567it [00:01, 968.64it/s]\u001b[A\n",
      "1673it [00:01, 973.38it/s]\u001b[A\n",
      "1772it [00:01, 966.86it/s]\u001b[A\n",
      "1868it [00:01, 965.91it/s]\u001b[A\n",
      "1964it [00:02, 964.93it/s]\u001b[A\n",
      "2064it [00:02, 965.91it/s]\u001b[A\n",
      "2161it [00:02, 965.77it/s]\u001b[A\n",
      "2258it [00:02, 964.12it/s]\u001b[A\n",
      "2362it [00:02, 967.09it/s]\u001b[A\n",
      "2460it [00:02, 966.96it/s]\u001b[A\n",
      "Exception in thread Thread-4:\n",
      "Traceback (most recent call last):\n",
      "  File \"/usr/local/Cellar/python3/3.6.2/Frameworks/Python.framework/Versions/3.6/lib/python3.6/threading.py\", line 916, in _bootstrap_inner\n",
      "    self.run()\n",
      "  File \"/usr/local/lib/python3.6/site-packages/tqdm/_tqdm.py\", line 144, in run\n",
      "    for instance in self.tqdm_cls._instances:\n",
      "  File \"/usr/local/Cellar/python3/3.6.2/Frameworks/Python.framework/Versions/3.6/lib/python3.6/_weakrefset.py\", line 60, in __iter__\n",
      "    for itemref in self.data:\n",
      "RuntimeError: Set changed size during iteration\n",
      "\n",
      "129593it [12:43, 169.80it/s]\n"
     ]
    }
   ],
   "source": [
    "train_parts = []\n",
    "test_parts = []\n",
    "with open('/Users/vita/Downloads/flo/train_subsample.jsonl', 'r') as train_file, open('/Users/vita/Downloads/flo/test_subsample.jsonl', 'r') as test_file:\n",
    "    for train_part, test_part in zip(tqdm(train_file), test_file):\n",
    "        train_part = json.loads(train_part)\n",
    "        test_part = json.loads(test_part)\n",
    "        train_parts.append(train_part)\n",
    "        test_parts.append(test_part)"
   ]
  },
  {
   "cell_type": "code",
   "execution_count": 5,
   "metadata": {
    "collapsed": true
   },
   "outputs": [],
   "source": [
    "def metric(real, predicted):\n",
    "    assert len(real) == len(predicted)\n",
    "    \n",
    "    users_mae_values = []\n",
    "    for real_labels, predicted_labels in zip(real, predicted):\n",
    "        assert len(real_labels) == len(predicted_labels)\n",
    "        real_labels, predicted_labels = np.array(real_labels), np.array(predicted_labels)\n",
    "        \n",
    "        user_mae = np.mean(np.abs(real_labels - predicted_labels))\n",
    "        users_mae_values.append(user_mae)\n",
    "    \n",
    "    return np.mean(users_mae_values)"
   ]
  },
  {
   "cell_type": "markdown",
   "metadata": {},
   "source": [
    "### baseline - среднее всех предыдущих циклов"
   ]
  },
  {
   "cell_type": "code",
   "execution_count": 78,
   "metadata": {},
   "outputs": [
    {
     "name": "stderr",
     "output_type": "stream",
     "text": [
      "100%|██████████| 129593/129593 [03:47<00:00, 570.22it/s]\n"
     ]
    }
   ],
   "source": [
    "real = []\n",
    "predicted = []\n",
    "for train_part in tqdm(train_parts):\n",
    "    days = map(lambda x: (x['lengths_history'], x['label']), train_part)\n",
    "    days = filter(lambda x: len(x[0]) > 0, days)\n",
    "    days = map(lambda x: (np.mean(x[0]), x[1]), days)\n",
    "    days = np.array(list(days)).T\n",
    "    if days.shape[0] > 0:\n",
    "        real.append(days[1])\n",
    "        predicted.append(days[0])"
   ]
  },
  {
   "cell_type": "code",
   "execution_count": 79,
   "metadata": {},
   "outputs": [
    {
     "name": "stdout",
     "output_type": "stream",
     "text": [
      "baseline = 4.308354266098735\n"
     ]
    }
   ],
   "source": [
    "print(\"baseline = {}\".format(metric(real, predicted)))"
   ]
  },
  {
   "cell_type": "markdown",
   "metadata": {},
   "source": [
    "### boosting"
   ]
  },
  {
   "cell_type": "code",
   "execution_count": null,
   "metadata": {
    "collapsed": true
   },
   "outputs": [],
   "source": []
  },
  {
   "cell_type": "markdown",
   "metadata": {},
   "source": [
    "### first RNN"
   ]
  },
  {
   "cell_type": "code",
   "execution_count": null,
   "metadata": {
    "collapsed": true
   },
   "outputs": [],
   "source": []
  }
 ],
 "metadata": {
  "kernelspec": {
   "display_name": "Python 3",
   "language": "python",
   "name": "python3"
  },
  "language_info": {
   "codemirror_mode": {
    "name": "ipython",
    "version": 3
   },
   "file_extension": ".py",
   "mimetype": "text/x-python",
   "name": "python",
   "nbconvert_exporter": "python",
   "pygments_lexer": "ipython3",
   "version": "3.6.2"
  }
 },
 "nbformat": 4,
 "nbformat_minor": 2
}
